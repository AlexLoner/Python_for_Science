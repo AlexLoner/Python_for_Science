{
 "cells": [
  {
   "cell_type": "markdown",
   "metadata": {},
   "source": [
    "## Занятие 7. Модели диффузии\n",
    "___\n",
    "#### Случайные блуждания и движения броуновской частицы\n",
    "\n",
    "Впервые случайное движение частиц (пыльцевых зерен) в воде наблюдал Роберт Броун в 1827 году. Это движение было названо броуновским. Впоследствии данное явление было объяснено Эйнштейном теоретически в 1905 году, который показал, что среднеквадратичное смещение броуновской частицы  \n",
    "\\begin{equation}\n",
    "<r^2(t)> \\sim t  \\tag{1}\n",
    "\\end{equation}\n",
    "Броуновское движение, описываемое уравнением (1), может быть промодулировано с помощью метода случайных блужданий, в котором броуновская частица смещается в единицу времени на единичное расстояние в случайном направлении."
   ]
  },
  {
   "cell_type": "code",
   "execution_count": 27,
   "metadata": {},
   "outputs": [],
   "source": [
    "import numpy as np\n",
    "import matplotlib.pyplot as plt\n",
    "from ipywidgets import interact"
   ]
  },
  {
   "cell_type": "code",
   "execution_count": 42,
   "metadata": {},
   "outputs": [],
   "source": [
    "class Walker:\n",
    "    \n",
    "    def __init__(self, N, steps):\n",
    "        self.N = N\n",
    "        self.steps = steps\n",
    "        self.sh = np.zeros((self.steps, 2))\n",
    "        \n",
    "    def nbrs(self, x, y):\n",
    "        return [(x + i, y) for i in [-1, 1] if 0 <= x + i < self.N] + [(x, y + j) for j in [-1, 1] if 0 <= y + j < self.N]\n",
    "    \n",
    "    \n",
    "    def get_rt(self):\n",
    "        self.rt = np.zeros(self.steps)\n",
    "        for i in range(self.steps):\n",
    "            self.rt[i] = np.linalg.norm(self.sh[0] - self.sh[i])\n",
    "        return self.rt\n",
    "    \n",
    "    def run(self, position):\n",
    "        self.sh[0] = position\n",
    "        \n",
    "        for step in range(1, self.steps):\n",
    "            pos_positions = self.nbrs(*self.sh[step-1])\n",
    "            index = np.random.randint(low=0, high=len(pos_positions))\n",
    "            new_position = pos_positions[index]\n",
    "            self.sh[step] = new_position\n",
    "            \n",
    "    def show_walks(self, lim=None):\n",
    "        if lim is None:\n",
    "            lim = self.steps\n",
    "        plt.figure(figsize=(8,8))\n",
    "        \n",
    "        plt.xlim(0, self.N)\n",
    "        plt.ylim(0, self.N)\n",
    "        \n",
    "        plt.grid()\n",
    "        plt.plot(self.sh[:lim, 0], self.sh[:lim, 1], marker='o', lw=2, zorder=0)\n",
    "        plt.scatter(self.sh[0,0], self.sh[0,1], s=200, c='red')\n",
    "        plt.scatter(self.sh[lim-1,0], self.sh[lim-1,1], s=200, c='limegreen')"
   ]
  },
  {
   "cell_type": "code",
   "execution_count": 43,
   "metadata": {},
   "outputs": [],
   "source": [
    "w = Walker(10, 20)\n",
    "\n",
    "w.run((5, 5))"
   ]
  },
  {
   "cell_type": "code",
   "execution_count": 53,
   "metadata": {},
   "outputs": [],
   "source": [
    "N = 40 \n",
    "steps = 200\n",
    "runs = 60\n",
    "rts = np.zeros((runs, steps))\n",
    "for i in range(runs):\n",
    "    w = Walker(N, steps)\n",
    "\n",
    "    w.run(np.random.randint(0, N, size=2))\n",
    "    rts[i] = w.get_rt()\n",
    "    "
   ]
  },
  {
   "cell_type": "code",
   "execution_count": 54,
   "metadata": {},
   "outputs": [
    {
     "data": {
      "text/plain": [
       "[<matplotlib.lines.Line2D at 0x7fbe7703b040>]"
      ]
     },
     "execution_count": 54,
     "metadata": {},
     "output_type": "execute_result"
    },
    {
     "data": {
      "image/png": "[encoded data removed]",
      "text/plain": [
       "<Figure size 432x288 with 1 Axes>"
      ]
     },
     "metadata": {
      "needs_background": "light"
     },
     "output_type": "display_data"
    }
   ],
   "source": [
    "plt.plot(np.mean(rts**2, axis=0))"
   ]
  },
  {
   "cell_type": "markdown",
   "metadata": {},
   "source": [
    "#### Классификация типов диффузионного движения \n",
    "В реальных системах часто наблюдается ситуации, когда закон (1) нарушается и между средним квадратом смещения и временем реализуется нелинейная зависимость\n",
    "\\begin{equation}\n",
    "    <r^2(t)> \\sim t^\\gamma, \n",
    "    где \\hspace{0.1cm} 0 < \\gamma \\leq 2\n",
    "\\end{equation}\n",
    "\n",
    "|Диапозон $\\gamma$ &nbsp; &nbsp;|Diffusion Type|\n",
    "| ----- | --- |\n",
    "|$\\gamma = 1$ | Обычная (нормальная)|\n",
    "|$1 < \\gamma \\leq 2$ | Быстрая (аномальная)|\n",
    "|$0 \\leq \\gamma < 1$ | Медленная (аномальная)|\n",
    "\n",
    "В некоторых случаях наблюдается также ультрамедленная диффузия \n",
    "$$<r^2(t)> \\sim (\\ln t)^\\alpha, \\alpha > 0$$\n",
    "\n",
    "Аномальная диффузия обычно наблюдается для систем, в которых существет определенная корреляция. Нормальная диффузия предполагает полную статистическую независимость последовательных случайных блужданий при условии не очень широкого распределения для длин и времени.\n",
    "\n",
    "\n",
    "#### Пример аномальной диффузии. Модель \"прыжков Леви\"\n",
    "В рамках данной модели длина шага $h$ не является постоянной величиной и может изменяться с определенной вероятностью $f(h)$, принимая целые значения из промежутка $h \\in [1, \\infty]$:\n",
    "\n",
    "$$f(h) = c \\cdot h^{-\\mu}$$\n",
    "\n",
    "где $1 \\leq \\mu < \\infty $, a $c = 6 / \\pi^2$ при  $\\mu = 2$.\n",
    "\n",
    "$\\sum f(h) = 1$"
   ]
  },
  {
   "cell_type": "code",
   "execution_count": 55,
   "metadata": {},
   "outputs": [],
   "source": [
    "distribution = lambda x: 6 / (np.pi *x) ** 2"
   ]
  },
  {
   "cell_type": "code",
   "execution_count": 59,
   "metadata": {},
   "outputs": [],
   "source": [
    "x = np.arange(1, 12)"
   ]
  },
  {
   "cell_type": "code",
   "execution_count": 60,
   "metadata": {},
   "outputs": [
    {
     "data": {
      "text/plain": [
       "[<matplotlib.lines.Line2D at 0x7fbe770736a0>]"
      ]
     },
     "execution_count": 60,
     "metadata": {},
     "output_type": "execute_result"
    },
    {
     "data": {
      "image/png": "[encoded data removed]",
      "text/plain": [
       "<Figure size 432x288 with 1 Axes>"
      ]
     },
     "metadata": {
      "needs_background": "light"
     },
     "output_type": "display_data"
    }
   ],
   "source": [
    "plt.plot(distribution(x))"
   ]
  },
  {
   "cell_type": "code",
   "execution_count": 61,
   "metadata": {},
   "outputs": [],
   "source": [
    "def generate_random_number(func, x1, x2, y1=0, y2=1):\n",
    "    y = 1\n",
    "    point = 0\n",
    "    \n",
    "    while y > point:\n",
    "        x = np.random.randint(x1, x2)\n",
    "        y = (y2 - y1) * np.random.rand() + y1\n",
    "        point = func(x)\n",
    "    return x\n",
    "    "
   ]
  },
  {
   "cell_type": "code",
   "execution_count": 62,
   "metadata": {},
   "outputs": [],
   "source": [
    "test = [generate_random_number(distribution, 1, 12) for _ in range(10000)]"
   ]
  },
  {
   "cell_type": "code",
   "execution_count": 65,
   "metadata": {},
   "outputs": [
    {
     "data": {
      "text/plain": [
       "(array([0.6479, 0.1539, 0.0725, 0.0386, 0.0259, 0.019 , 0.0125, 0.0102,\n",
       "        0.0078, 0.0117]),\n",
       " array([ 1.,  2.,  3.,  4.,  5.,  6.,  7.,  8.,  9., 10., 11.]),\n",
       " <a list of 10 Patch objects>)"
      ]
     },
     "execution_count": 65,
     "metadata": {},
     "output_type": "execute_result"
    },
    {
     "data": {
      "image/png": "[encoded data removed]",
      "text/plain": [
       "<Figure size 432x288 with 1 Axes>"
      ]
     },
     "metadata": {
      "needs_background": "light"
     },
     "output_type": "display_data"
    }
   ],
   "source": [
    "plt.plot(x, distribution(x))\n",
    "plt.hist(test, density=True)"
   ]
  },
  {
   "cell_type": "code",
   "execution_count": 66,
   "metadata": {},
   "outputs": [],
   "source": [
    "class LevyJumps(Walker):\n",
    "    \n",
    "    def generate_random_number(self, func, x1, x2, y1=0, y2=1):\n",
    "        y = 1\n",
    "        point = 0\n",
    "\n",
    "        while y > point:\n",
    "            x = np.random.randint(x1, x2)\n",
    "            y = (y2 - y1) * np.random.rand() + y1\n",
    "            point = func(x)\n",
    "        return x\n",
    "    \n",
    "    def nbrs(self, x, y, x_shift, y_shift):\n",
    "        pos_positions = []\n",
    "        for i in [-1, 0, 1]:\n",
    "            for j in [-1, 0, 1]:\n",
    "                point = x + i * x_shift, y + j * y_shift\n",
    "                if 0 <= point[0] < self.N and 0 <= point[1] < self.N:\n",
    "                    pos_positions.append(point)\n",
    "        return pos_positions\n",
    "    \n",
    "    def get_new_position(self, prev_position, func, x1, x2, y1, y2):\n",
    "        x, y = prev_position\n",
    "        new_position = None\n",
    "        \n",
    "        while True:\n",
    "            x_shift = self.generate_random_number(func, x1, x2, y1, y2)\n",
    "            y_shift = self.generate_random_number(func, x1, x2, y1, y2)\n",
    "            \n",
    "            if pos_positions := self.nbrs(x, y, x_shift, y_shift):\n",
    "                index = np.random.randint(0, len(pos_positions))\n",
    "                new_position = pos_positions[index]\n",
    "                break\n",
    "        \n",
    "        return new_position\n",
    "    \n",
    "    def run(self, position, func, x1, x2, y1=0, y2=1):\n",
    "        self.sh[0] = position\n",
    "        for step in range(1, self.steps):\n",
    "            new_postion = self.get_new_position(self.sh[step-1], func, x1, x2, y1, y2)\n",
    "            self.sh[step] = new_postion"
   ]
  },
  {
   "cell_type": "code",
   "execution_count": 67,
   "metadata": {},
   "outputs": [],
   "source": [
    "w = LevyJumps(20, 200)"
   ]
  },
  {
   "cell_type": "code",
   "execution_count": 68,
   "metadata": {},
   "outputs": [],
   "source": [
    "w.run((10, 10), distribution, 1, 12)"
   ]
  },
  {
   "cell_type": "code",
   "execution_count": 69,
   "metadata": {},
   "outputs": [
    {
     "data": {
      "application/vnd.jupyter.widget-view+json": {
       "model_id": "73d27069306147a5971235e03ac18e94",
       "version_major": 2,
       "version_minor": 0
      },
      "text/plain": [
       "interactive(children=(IntSlider(value=100, description='lim', max=200), Output()), _dom_classes=('widget-inter…"
      ]
     },
     "metadata": {},
     "output_type": "display_data"
    },
    {
     "data": {
      "text/plain": [
       "<function ipywidgets.widgets.interaction._InteractFactory.__call__.<locals>.<lambda>(*args, **kwargs)>"
      ]
     },
     "execution_count": 69,
     "metadata": {},
     "output_type": "execute_result"
    }
   ],
   "source": [
    "interact(w.show_walks, lim=(0, w.steps))"
   ]
  },
  {
   "cell_type": "code",
   "execution_count": 73,
   "metadata": {},
   "outputs": [],
   "source": [
    "N = 40 \n",
    "steps = 200\n",
    "runs = 40\n",
    "rts = np.zeros((runs, steps))\n",
    "for i in range(runs):\n",
    "    w = LevyJumps(N, steps)\n",
    "\n",
    "    w.run(np.random.randint(0, N, size=2), distribution, 1, 12)\n",
    "    rts[i] = w.get_rt()"
   ]
  },
  {
   "cell_type": "code",
   "execution_count": 74,
   "metadata": {},
   "outputs": [
    {
     "data": {
      "text/plain": [
       "[<matplotlib.lines.Line2D at 0x7fbe76d713d0>]"
      ]
     },
     "execution_count": 74,
     "metadata": {},
     "output_type": "execute_result"
    },
    {
     "data": {
      "image/png": "[encoded data removed]",
      "text/plain": [
       "<Figure size 432x288 with 1 Axes>"
      ]
     },
     "metadata": {
      "needs_background": "light"
     },
     "output_type": "display_data"
    }
   ],
   "source": [
    "plt.plot(np.mean(rts**2, axis=0))"
   ]
  }
 ],
 "metadata": {
  "kernelspec": {
   "display_name": "Python 3",
   "language": "python",
   "name": "python3"
  },
  "language_info": {
   "codemirror_mode": {
    "name": "ipython",
    "version": 3
   },
   "file_extension": ".py",
   "mimetype": "text/x-python",
   "name": "python",
   "nbconvert_exporter": "python",
   "pygments_lexer": "ipython3",
   "version": "3.8.3"
  }
 },
 "nbformat": 4,
 "nbformat_minor": 4
}
