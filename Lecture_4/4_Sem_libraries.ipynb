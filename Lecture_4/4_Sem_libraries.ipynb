{
 "cells": [
  {
   "cell_type": "markdown",
   "metadata": {},
   "source": [
    "**Задание 1**\n",
    "\n",
    "---\n",
    "\n",
    "Файл \"exp_data\" содержит экспериментальные измерения величины зависящей от времени $f(t)$ для $t \\in [0,1]$. Для каждого момента времени $t$ проводилось 5 измерений. \n",
    "\n",
    "Известна теоретическая формула для этой величины$f(t) = Ae^{-\\alpha t}cos(\\omega t)$  \n",
    "\n",
    "Найдите коэффиценты $А, \\omega, \\alpha$.\n",
    "Постройте график теоретической зависимости.\n",
    "На этом же графике постройте зависимость среднего значения $f(t)$ с погрешностями.\n",
    "\n",
    "#### $f_{ср}(t) = \\sum_i^{n=5}\\frac{f_i(t)}{n}$ ; $\\Delta f(t) = \\sqrt{\\frac{\\sum_i^{n=5} |f_i(t) - f_{ср}(t)|^2}{n(n-1)}}$"
   ]
  },
  {
   "cell_type": "code",
   "execution_count": null,
   "metadata": {},
   "outputs": [],
   "source": []
  },
  {
   "cell_type": "markdown",
   "metadata": {},
   "source": [
    "**Задание 2**\n",
    "\n",
    "---\n",
    "\n",
    "Электрон движется в электрическом поле, напряженность которого равна $\\vec{E}(t) = (E_x(t), 0 ,0)$; $E_x(t) = E_0e ^ {-\\alpha t}$, где $\\alpha = 0.1$ и $E_0 = 0.75$. \n",
    "\n",
    "Постройте график зависимости скорости электрона по оси \"х\" от времени при условии, что $x_0 = 1$, $\\dot{x}_0 = 0$ и $ \\frac{eE_0}{m} = 1$ "
   ]
  },
  {
   "cell_type": "code",
   "execution_count": null,
   "metadata": {},
   "outputs": [],
   "source": []
  },
  {
   "cell_type": "markdown",
   "metadata": {},
   "source": [
    "**Задание 3**\n",
    "\n",
    "---\n",
    "\n",
    "Электрон движется в магнитном поле, индукция которого равна $\\vec{H}(t) = (0, 0 , H_z(t))$; $H_z(t) = H_0e ^ {-\\alpha t}$, где $\\alpha = 0.04$ и $H_0 = 1$. \n",
    "\n",
    "Постройте график траектории электрона в координатах *x*, *y* при условии, что $x_0 = 0$, $\\dot{x}_0 = 1$, $y_0 = 0$, $\\dot{y}_0 = 1$ и $ \\frac{eH_0}{mc} = 1$ "
   ]
  },
  {
   "cell_type": "code",
   "execution_count": null,
   "metadata": {},
   "outputs": [],
   "source": []
  }
 ],
 "metadata": {
  "kernelspec": {
   "display_name": "Python 3",
   "language": "python",
   "name": "python3"
  },
  "language_info": {
   "codemirror_mode": {
    "name": "ipython",
    "version": 3
   },
   "file_extension": ".py",
   "mimetype": "text/x-python",
   "name": "python",
   "nbconvert_exporter": "python",
   "pygments_lexer": "ipython3",
   "version": "3.8.3"
  }
 },
 "nbformat": 4,
 "nbformat_minor": 4
}
