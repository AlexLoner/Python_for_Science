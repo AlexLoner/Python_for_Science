{
 "cells": [
  {
   "cell_type": "markdown",
   "metadata": {},
   "source": [
    "## Занятие 5. Классы и ООП (продолжение) \n",
    "___\n",
    "\n",
    "Весь код, написанный нами был основан на объектах и сам по себе тоже является объектом. Однако, для того, чтобы наши программы были в самом деле объектно-ориентированными, необходимо, чтобы наши объекты участвовали в иерархии наследования. \n",
    "\n",
    "Для этой цели в питоне реализована конструкция `class`, которая используется для написания новых, своих типов объектов, поддерживающих наследование. \n",
    "\n",
    "Классы - это основные инструменты объектно-ориентированного программирования (ООП) в Python. Основное назначение классов состоит в том, чтобы создавать и манипулировать \n",
    "новыми объектами.\n",
    "\n",
    "\n"
   ]
  },
  {
   "cell_type": "markdown",
   "metadata": {},
   "source": [
    "#### Зачем нужен `self`?\n",
    "Переменная `self` это указатель на экземпляр класса. Она предоставляет доступ ко внутренним аттрибутам и методам класса. \n"
   ]
  },
  {
   "cell_type": "code",
   "execution_count": null,
   "metadata": {},
   "outputs": [],
   "source": [
    "class A:\n",
    "    def foo(h, s):\n",
    "        hour = h\n",
    "        minutes = s \n",
    "        print(f'Time {hour}[hrs] {minutes}[min]')"
   ]
  },
  {
   "cell_type": "code",
   "execution_count": null,
   "metadata": {},
   "outputs": [],
   "source": [
    "a = A()"
   ]
  },
  {
   "cell_type": "code",
   "execution_count": null,
   "metadata": {},
   "outputs": [],
   "source": [
    "a.foo(4, 5)"
   ]
  },
  {
   "cell_type": "code",
   "execution_count": null,
   "metadata": {},
   "outputs": [],
   "source": [
    "class B:\n",
    "    def foo(self, h, s):\n",
    "        self.hour = h\n",
    "        self.minutes = s \n",
    "        print(f'Time {self.hour}[hrs] {self.minutes}[min]')"
   ]
  },
  {
   "cell_type": "code",
   "execution_count": null,
   "metadata": {},
   "outputs": [],
   "source": [
    "b = B()\n",
    "b.foo(4, 5)"
   ]
  },
  {
   "cell_type": "markdown",
   "metadata": {},
   "source": [
    "#### Множественное наследование"
   ]
  },
  {
   "cell_type": "code",
   "execution_count": null,
   "metadata": {},
   "outputs": [],
   "source": [
    "class Root:\n",
    "    \n",
    "    def pprint(self):\n",
    "        print(f\" I am {self.__class__.__name__}\")\n",
    "\n",
    "\n",
    "class LeftBranch(Root):\n",
    "\n",
    "    def pprint(self):\n",
    "        print(f\"I am {self.__class__.__name__} from {[obj.__name__ for obj in self.__class__.__mro__]}\")\n",
    "        \n",
    "\n",
    "class RightBranch(Root):\n",
    "\n",
    "    def pprint(self):\n",
    "        print(f\"I am {self.__class__.__name__} from {[obj.__name__ for obj in self.__class__.__mro__]}\")"
   ]
  },
  {
   "cell_type": "code",
   "execution_count": null,
   "metadata": {},
   "outputs": [],
   "source": [
    "r = Root()\n",
    "r.pprint()"
   ]
  },
  {
   "cell_type": "markdown",
   "metadata": {},
   "source": [
    "Начиная с версии `Python 2.2` все классы неявно наследуются от `object` класса."
   ]
  },
  {
   "cell_type": "code",
   "execution_count": null,
   "metadata": {},
   "outputs": [],
   "source": [
    "r.__class__.__mro__"
   ]
  },
  {
   "cell_type": "code",
   "execution_count": null,
   "metadata": {},
   "outputs": [],
   "source": [
    "lb = LeftBranch()\n",
    "lb.pprint()"
   ]
  },
  {
   "cell_type": "code",
   "execution_count": null,
   "metadata": {},
   "outputs": [],
   "source": [
    "rb = RightBranch()\n",
    "rb.pprint()"
   ]
  },
  {
   "cell_type": "code",
   "execution_count": null,
   "metadata": {},
   "outputs": [],
   "source": [
    "class Upper(RightBranch, LeftBranch):\n",
    "    pass"
   ]
  },
  {
   "cell_type": "code",
   "execution_count": null,
   "metadata": {},
   "outputs": [],
   "source": [
    "up = Upper()"
   ]
  },
  {
   "cell_type": "code",
   "execution_count": null,
   "metadata": {},
   "outputs": [],
   "source": [
    "up.pprint()"
   ]
  },
  {
   "cell_type": "markdown",
   "metadata": {},
   "source": [
    "Таким образом наше дерево наследования выглядит следующимм образом:\n",
    "\n",
    "                            object\n",
    "                               |\n",
    "                             Root\n",
    "                            /    \\\n",
    "                           /      \\\n",
    "                 LeftBranch        RightBranch\n",
    "                           \\      /\n",
    "                            \\    /\n",
    "                             Upper\n",
    "                             \n",
    "А поиск унаследованных атрибутов и методов происходит слева-направо, снизу-вверх\n",
    "                           "
   ]
  },
  {
   "cell_type": "markdown",
   "metadata": {},
   "source": [
    "#### Инкапсуляция"
   ]
  },
  {
   "cell_type": "code",
   "execution_count": null,
   "metadata": {},
   "outputs": [],
   "source": [
    "class Worker:\n",
    "    \n",
    "    def __init__(self, name, salary):\n",
    "        self.name = name \n",
    "        self.salary = salary\n",
    "        \n",
    "    def change_salary(self, coef):\n",
    "        self.salary += self.salary * coef\n",
    "    \n",
    "    def __str__(self):\n",
    "        return f\"<{self.name}> :: <{self.salary}>\"\n",
    "    \n",
    "    def __repr__(self):\n",
    "        return f\"{self.__class__.__name__}('{self.name}', {self.salary})\""
   ]
  },
  {
   "cell_type": "code",
   "execution_count": null,
   "metadata": {},
   "outputs": [],
   "source": [
    "class TrickyWorker(Worker):\n",
    "    \n",
    "    def __init__(self, name, salary):\n",
    "        super().__init__(name, salary)\n",
    "        self.__bonus = 0.05\n",
    "    \n",
    "    def change_salary(self, coef):\n",
    "        super().change_salary(coef + self.__bonus)"
   ]
  },
  {
   "cell_type": "code",
   "execution_count": null,
   "metadata": {},
   "outputs": [],
   "source": [
    "tw = TrickyWorker('Joey', 1000)"
   ]
  },
  {
   "cell_type": "code",
   "execution_count": null,
   "metadata": {},
   "outputs": [],
   "source": [
    "tw._TrickyWorker__bonus"
   ]
  },
  {
   "cell_type": "markdown",
   "metadata": {},
   "source": [
    "То есть в \"суперскрытые\" атрибуты или методы прячутся путем изменения их имени, в начало имени приписывается `_<class_name>`"
   ]
  },
  {
   "cell_type": "code",
   "execution_count": null,
   "metadata": {},
   "outputs": [],
   "source": [
    "class SuperTrickyWorker(TrickyWorker):\n",
    "    \n",
    "    def __init__(self, name, salary, birthday=None):\n",
    "        super().__init__(name, salary)\n",
    "        self._birthday = birthday\n",
    "   \n",
    "    def __repr__(self):\n",
    "        return f\"{self.__class__.__name__}('{self.name}', {self.salary}, {self.birthday})\"\n",
    "    \n",
    "    @property\n",
    "    def birthday(self):\n",
    "        return self._birthday"
   ]
  },
  {
   "cell_type": "code",
   "execution_count": null,
   "metadata": {},
   "outputs": [],
   "source": [
    "stw = SuperTrickyWorker('Phoebe', 100, '30.07.1963')"
   ]
  },
  {
   "cell_type": "code",
   "execution_count": null,
   "metadata": {},
   "outputs": [],
   "source": [
    "stw.birthday "
   ]
  },
  {
   "cell_type": "code",
   "execution_count": null,
   "metadata": {},
   "outputs": [],
   "source": [
    "stw.birthday = '31.07.1963'"
   ]
  },
  {
   "cell_type": "code",
   "execution_count": null,
   "metadata": {},
   "outputs": [],
   "source": [
    "del stw.birthday"
   ]
  },
  {
   "cell_type": "code",
   "execution_count": null,
   "metadata": {},
   "outputs": [],
   "source": [
    "class SuperTrickyWorker(TrickyWorker):\n",
    "    \n",
    "    def __init__(self, name, salary, birthday=None):\n",
    "        super().__init__(name, salary)\n",
    "        self._birthday = birthday\n",
    "   \n",
    "    def __repr__(self):\n",
    "        return f\"{self.__class__.__name__}('{self.name}', {self.salary}, {self.birthday})\"\n",
    "    \n",
    "    @property\n",
    "    def birthday(self):\n",
    "        return self._birthday\n",
    "    \n",
    "    @birthday.setter\n",
    "    def birthday(self, newdate):\n",
    "        self._birthday = newdate\n",
    "    \n",
    "    @birthday.deleter\n",
    "    def birthday(self): \n",
    "        self._birthday = None"
   ]
  },
  {
   "cell_type": "code",
   "execution_count": null,
   "metadata": {},
   "outputs": [],
   "source": [
    "stw = SuperTrickyWorker('Phoebe', 100, '30.07.1963')"
   ]
  },
  {
   "cell_type": "code",
   "execution_count": null,
   "metadata": {},
   "outputs": [],
   "source": [
    "stw.birthday"
   ]
  },
  {
   "cell_type": "code",
   "execution_count": null,
   "metadata": {},
   "outputs": [],
   "source": [
    "del stw.birthday"
   ]
  },
  {
   "cell_type": "code",
   "execution_count": null,
   "metadata": {},
   "outputs": [],
   "source": [
    "stw"
   ]
  },
  {
   "cell_type": "markdown",
   "metadata": {},
   "source": [
    "#### Перегрузка операторов"
   ]
  },
  {
   "cell_type": "markdown",
   "metadata": {},
   "source": [
    "Напишем класс, в котором переделаем некоторые операции встроенного типа `int`"
   ]
  },
  {
   "cell_type": "code",
   "execution_count": null,
   "metadata": {},
   "outputs": [],
   "source": [
    "class ReverseINT(int):\n",
    "    \n",
    "    def __init__(self, n):\n",
    "        self._n = n\n",
    "    \n",
    "    def __add__(self, other):\n",
    "        return ReverseINT(self._n - other._n)\n",
    "    \n",
    "    def __sub__(self, other):\n",
    "        return ReverseINT(self._n + other._n)\n",
    "    \n",
    "    def __mul__(self, other):\n",
    "        assert other._n != 0, f\"I just can't\"\n",
    "        return ReverseINT(self._n / other._n) \n",
    "    \n",
    "    def __truediv__(self, other):\n",
    "        return ReverseINT(self._n * other._n)\n",
    "    \n",
    "    def __str__(self):\n",
    "        return f\"class.ReverseINT : value = {self._n}\"\n"
   ]
  },
  {
   "cell_type": "code",
   "execution_count": null,
   "metadata": {},
   "outputs": [],
   "source": [
    "a = ReverseINT(1)\n",
    "b = ReverseINT(34)"
   ]
  },
  {
   "cell_type": "code",
   "execution_count": null,
   "metadata": {},
   "outputs": [],
   "source": [
    "c = a + b"
   ]
  },
  {
   "cell_type": "code",
   "execution_count": null,
   "metadata": {},
   "outputs": [],
   "source": [
    "c -= b"
   ]
  },
  {
   "cell_type": "code",
   "execution_count": null,
   "metadata": {},
   "outputs": [],
   "source": [
    "c = a // b"
   ]
  },
  {
   "cell_type": "markdown",
   "metadata": {},
   "source": [
    "Еще пример перегрузки оператора"
   ]
  },
  {
   "cell_type": "code",
   "execution_count": null,
   "metadata": {},
   "outputs": [],
   "source": [
    "class NewWorker(Worker):\n",
    "    \n",
    "    def __getitem__(self, attr):\n",
    "        '''Вызывается при извлечении элемента по индексу'''\n",
    "        return getattr(self, attr, None)\n",
    "    \n",
    "    def __setitem__(self, key, value):\n",
    "        '''Добавляет аттрибут key со значением value'''\n",
    "        setattr(self, key, value)"
   ]
  },
  {
   "cell_type": "code",
   "execution_count": null,
   "metadata": {},
   "outputs": [],
   "source": [
    "w = NewWorker('homer', -10)"
   ]
  },
  {
   "cell_type": "markdown",
   "metadata": {},
   "source": [
    "Основные выводы, которые можно вынести из возможности переопределения операторов:\n",
    "\n",
    "    1) Перегрузка операторов в Python позволяет классам участвовать в обычных операциях;\n",
    "\n",
    "    2) Классы могут перегружать все операторы выражений;\n",
    "\n",
    "    3) Перегрузка делает экземпляры классов более похожими на встроенные типы;\n",
    "\n",
    "    4) Перегрузка заключается в реализации в классах методов со специальными именами"
   ]
  },
  {
   "cell_type": "markdown",
   "metadata": {},
   "source": [
    "#### Итераторы"
   ]
  },
  {
   "cell_type": "markdown",
   "metadata": {},
   "source": [
    "Итераторы позволяют вам сделать поочередно перебрать элементы, которые будут вычисляется по мере их поступления. Использование итератора вместо списка `list`, набора `set` или другой итерируемой структуры данных может иногда позволить нам сэкономить память."
   ]
  },
  {
   "cell_type": "code",
   "execution_count": null,
   "metadata": {},
   "outputs": [],
   "source": [
    "class Iterator:\n",
    "    \n",
    "    def __init__(self, container):\n",
    "        self.cont = container\n",
    "        self.point = len(self.cont)\n",
    "        \n",
    "    def __iter__(self):\n",
    "        return self\n",
    "    \n",
    "    def __next__(self):\n",
    "        self.point -= 1\n",
    "        if self.point < 0:\n",
    "            raise StopIteration()\n",
    "            \n",
    "        return self.cont[self.point]"
   ]
  },
  {
   "cell_type": "code",
   "execution_count": null,
   "metadata": {},
   "outputs": [],
   "source": [
    "r = (0, 5, 1, 3)"
   ]
  },
  {
   "cell_type": "code",
   "execution_count": null,
   "metadata": {},
   "outputs": [],
   "source": [
    "itr = Iterator(r, 2)"
   ]
  },
  {
   "cell_type": "code",
   "execution_count": null,
   "metadata": {},
   "outputs": [],
   "source": [
    "for i in itr:\n",
    "    print(i, end=' ')"
   ]
  },
  {
   "cell_type": "markdown",
   "metadata": {},
   "source": [
    "#### Генераторы\n",
    "\n",
    "С точки зрения реализации, генератор в Python — это языковая конструкция, которую можно реализовать двумя способами: как функция с ключевым словом `yield` или как генераторное выражение. В результате вызова функции или вычисления выражения, получаем объект-генератор типа types.GeneratorType.\n",
    "\n",
    "В объекте-генераторе определены методы `__next__` и `__iter__`, то есть реализован протокол итератора, с этой точки зрения, в Python любой генератор является итератором.\n",
    "Концептуально, итератор — это механизм поэлементного обхода данных, а генератор позволяет отложено создавать результат при итерации. Генератор может создавать результат на основе какого то алгоритма или брать элементы из источника данных(коллекция, файлы, сетевое подключения и пр) и изменять их."
   ]
  },
  {
   "cell_type": "code",
   "execution_count": null,
   "metadata": {},
   "outputs": [],
   "source": [
    "def generator(stop=10):\n",
    "    i = 0 \n",
    "    while i < stop:\n",
    "        yield i ** 2\n",
    "        i += 1"
   ]
  },
  {
   "cell_type": "code",
   "execution_count": null,
   "metadata": {},
   "outputs": [],
   "source": [
    "generator()"
   ]
  },
  {
   "cell_type": "code",
   "execution_count": null,
   "metadata": {},
   "outputs": [],
   "source": [
    "for i in generator():\n",
    "    print(i, end=' ')"
   ]
  },
  {
   "cell_type": "code",
   "execution_count": null,
   "metadata": {},
   "outputs": [],
   "source": [
    "for i in (x**2 for x in range(10)):\n",
    "    print(i, end=' ')"
   ]
  },
  {
   "cell_type": "code",
   "execution_count": null,
   "metadata": {},
   "outputs": [],
   "source": []
  }
 ],
 "metadata": {
  "kernelspec": {
   "display_name": "Python 3",
   "language": "python",
   "name": "python3"
  },
  "language_info": {
   "codemirror_mode": {
    "name": "ipython",
    "version": 3
   },
   "file_extension": ".py",
   "mimetype": "text/x-python",
   "name": "python",
   "nbconvert_exporter": "python",
   "pygments_lexer": "ipython3",
   "version": "3.8.3"
  }
 },
 "nbformat": 4,
 "nbformat_minor": 4
}
