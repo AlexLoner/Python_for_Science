{
 "cells": [
  {
   "cell_type": "markdown",
   "metadata": {},
   "source": [
    "## Задание 1\n",
    "---\n",
    "\n",
    "Напишите итератор, который обходит заданный список и выдает все числа большие некоторого заданного числа `n`."
   ]
  },
  {
   "cell_type": "code",
   "execution_count": 10,
   "metadata": {},
   "outputs": [],
   "source": [
    "from typing import List, Union"
   ]
  },
  {
   "cell_type": "code",
   "execution_count": 15,
   "metadata": {},
   "outputs": [],
   "source": [
    "class Iterator:\n",
    "    \n",
    "    def __init__(self, lst: List[Union[int, float]], n:float):\n",
    "        ...\n",
    "    \n",
    "    def __iter__(self):\n",
    "        ...\n",
    "        \n",
    "    def __next__(self):\n",
    "        ..."
   ]
  },
  {
   "cell_type": "markdown",
   "metadata": {},
   "source": [
    "## Задание 2\n",
    "---\n",
    "\n",
    "Напишите генератор чисел Фибоначчи"
   ]
  },
  {
   "cell_type": "code",
   "execution_count": null,
   "metadata": {},
   "outputs": [],
   "source": []
  },
  {
   "cell_type": "markdown",
   "metadata": {},
   "source": [
    "## Задание 3\n",
    "---\n",
    "\n",
    "Напишите класс, отнаследованный от кортежа, который выполняет поэлементое сложение, вычитание, умножение и деление\n",
    "\n",
    "\n",
    "Примеры выполнения\n",
    "* (1, 2) + (3, 4) = (4, 6)\n",
    "* (5, 10) / 5 = (1, 2)\n",
    "* (5, 10) * (2, 1) = (10, 10)"
   ]
  },
  {
   "cell_type": "code",
   "execution_count": null,
   "metadata": {},
   "outputs": [],
   "source": []
  }
 ],
 "metadata": {
  "kernelspec": {
   "display_name": "Python 3",
   "language": "python",
   "name": "python3"
  },
  "language_info": {
   "codemirror_mode": {
    "name": "ipython",
    "version": 3
   },
   "file_extension": ".py",
   "mimetype": "text/x-python",
   "name": "python",
   "nbconvert_exporter": "python",
   "pygments_lexer": "ipython3",
   "version": "3.8.3"
  }
 },
 "nbformat": 4,
 "nbformat_minor": 4
}
