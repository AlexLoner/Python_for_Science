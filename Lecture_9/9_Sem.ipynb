{
 "cells": [
  {
   "cell_type": "markdown",
   "metadata": {},
   "source": [
    "## Задание. Две частицы\n",
    "\n",
    "Рассчитайте энергии и волновые функции системы, состоящей из двух осцилляторов с массами $m_1$ и $m_2 = 3 m_1$  и потенциалом $V(x_1, x_2) = \\frac{k\\cdot(x_1 + x_2)^2}{2}$, для простоты считайте, что $\\frac{\\hbar^2}{m_1} = 1$"
   ]
  },
  {
   "cell_type": "code",
   "execution_count": null,
   "metadata": {},
   "outputs": [],
   "source": []
  }
 ],
 "metadata": {
  "kernelspec": {
   "display_name": "Python 3",
   "language": "python",
   "name": "python3"
  },
  "language_info": {
   "codemirror_mode": {
    "name": "ipython",
    "version": 3
   },
   "file_extension": ".py",
   "mimetype": "text/x-python",
   "name": "python",
   "nbconvert_exporter": "python",
   "pygments_lexer": "ipython3",
   "version": "3.8.3"
  }
 },
 "nbformat": 4,
 "nbformat_minor": 4
}
