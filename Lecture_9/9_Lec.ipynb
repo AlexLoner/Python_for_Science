{
 "cells": [
  {
   "cell_type": "markdown",
   "metadata": {},
   "source": [
    "## Лекция 9. Двухчастичные системы\n",
    "---\n",
    "\n",
    "Волновая функция $\\Psi(\\vec{\\textbf{r}}, t)$ в случае двух частичной задачи начнает зависеть от координат обеих частиц $$\\Psi(\\vec{\\textbf{r}}, t) = \\Psi(\\textbf{r}_1, \\textbf{r}_2, t)$$\n",
    "Эволюция система по-прежнему описывается уравнением Шредингера:\n",
    "$$i \\hbar \\frac{\\partial \\Psi}{\\partial t} = H \\Psi,$$\n",
    "\n",
    "где Гамильтониан полной системы \n",
    "\n",
    "$$H = -\\frac{\\hbar^2}{2m_1} \\nabla^2_1 -\\frac{\\hbar^2}{2m_2} \\nabla^2_2 + V(\\textbf{r}_1, \\textbf{r}_2, t)$$\n",
    "\n",
    "Условие нормировки не изменилось:\n",
    "$$\\int |\\Psi(\\textbf{r}_1, \\textbf{r}_2, t) |^2 d^3\\textbf{r}_1d^3\\textbf{r}_2 = 1,$$\n",
    "а подынтегальное выражение определяет вероятность обнаружить частицы 1 и 2 в объемах $d^3\\textbf{r}_1, d^3\\textbf{r}_2$ соответственно.\n",
    "Если потенциал не зависит от времени \n",
    "\n",
    "$$\\Psi(\\textbf{r}_1, \\textbf{r}_2, t) = \\psi(\\textbf{r}_1, \\textbf{r}_2) e^{-i\\frac{Et}{\\hbar}},$$\n",
    "\n",
    "тогда в наиболее общем УШ примет следующий вид:\n",
    "\n",
    "$$-\\frac{\\hbar^2}{2m_1} \\nabla^2_1 \\psi -\\frac{\\hbar^2}{2m_2} \\nabla^2_2 \\psi + V \\psi = E \\psi$$"
   ]
  },
  {
   "cell_type": "markdown",
   "metadata": {},
   "source": [
    "### Два осциллятора"
   ]
  },
  {
   "cell_type": "markdown",
   "metadata": {},
   "source": [
    "В качестве примера двухчастичной задачи рассмотрим два одномерных осциллятора $x \\in [-a, a)$ с $\\Delta x = 0.05$ , $a = 4$ $(N = 160)$. Гамильтониан такой системы имеет вид:\n",
    "\n",
    "$$H = \\frac{p_1^2 + p_2^2}{2m} + \\frac{1}{2}k(x_1^2 +x_2^2) = -\\frac{\\hbar^2}{2m} \\left( \\frac{\\partial^2}{\\partial x_1^2} - \\frac{\\partial^2}{\\partial x_2^2} \\right) + \\frac{1}{2}k(x_1^2 +x_2^2),$$\n",
    "\n",
    "и  само УШ соответсвенно\n",
    "$$-\\frac{\\hbar^2}{2m} \\left( \\frac{\\partial^2}{\\partial x_1^2} - \\frac{\\partial^2}{\\partial x_2^2} \\right) \\psi(x_1, x_2) + \\frac{1}{2}k(x_1^2 +x_2^2) \\psi(x_1, x_2) = E \\psi(x_1, x_2) $$\n",
    "\n",
    "Как было показано на прошлой лекции, для того чтобы решить стационарное УШ численно необходимо дискретизировать конфигурационное пространство, получить матрицу $\\hat{H}$ в каком-либо базисе и диагонализовать ее, тем самым получив коэффициенты разложения собственной функции $\\hat{C}$ и энергии $\\hat{E}$.\n",
    "\n",
    "Поэтому сначала выберем двух частичных базис в виде:\n",
    "$$\\phi(x_1, x_2) = \\delta(x_1 - x_i) \\cdot \\delta(x_2 - x_j),$$\n",
    "\n",
    "тогда разложение собственной функции $\\phi(x_1, x_2)$ по базисным векторам будет выглядеть так:\n",
    "$$\\psi(x_1, x_2) = \\sum_{i, j}\\phi(x_{i}, x_{j}) \\psi(x_1, x_2) = \\sum_{i, j}\\delta(x_1 - x_i)\\cdot \\delta(x_2 - x_j) \\psi(x_1, x_2)$$"
   ]
  },
  {
   "cell_type": "code",
   "execution_count": null,
   "metadata": {},
   "outputs": [],
   "source": []
  },
  {
   "cell_type": "markdown",
   "metadata": {},
   "source": [
    "Теперь нам необходимо составить матрицу Гамильтониана H в выбранном нами базисе, для этого необходимо рассчитать матричные элементы от каждого из слагаемых\n",
    "\n",
    "Кинетическая часть:\n",
    "\n",
    "\n",
    "\n",
    "\\begin{align}\n",
    "    H_{mn}^{kin} &= -\\frac{\\hbar^2}{2m}\\sum_{i, j = 0}^{N-1} \\phi_m(x_i, x_j) \\frac{\\partial^2}{\\partial x_1^2}\\phi_n(x_i, x_j)  - \\frac{\\hbar^2}{2m} \\sum_{i, j = 0}^{N-1} \\phi_m(x_i, x_j) \\frac{\\partial^2}{\\partial x_2^2} \\phi_n(x_i, x_j) = \\\\\n",
    "           &= - \\frac{\\hbar^2}{2m} \\sum_{i, j = 0}^{N-1}  \\delta(x_2 - x_{jm}) \\cdot\\delta(x_1 - x_{im}) \\frac{\\partial^2}{\\partial x_1^2} \\delta(x_1 - x_{in})\\cdot \\delta(x_2 - x_{jn}) - \\\\\n",
    "           &- \\frac{\\hbar^2}{2m} \\sum_{i, j = 0}^{N-1} \\delta(x_1 - x_{im})\\cdot \\delta(x_2 - x_{jm}) \\frac{\\partial^2}{\\partial x_2^2} \\delta(x_2 - x_{jn}) \\cdot \\delta(x_1 - x_{in})\n",
    "\\end{align}\n",
    "\n",
    "\n",
    "Потенциальная часть:\n",
    "\\begin{align}\n",
    "    H_{mn}^{potential} &= \\sum_{i, j = 0}^{N-1} \\phi_m(x_i, x_j) \\frac{1}{2}k(x_1^2 +x_2^2) \\phi_n(x_i, x_j) = \\\\\n",
    "           &=  \\sum_{i, j = 0}^{N-1}   \\delta(x_1 - x_{im}) \\delta(x_2 - x_{jm}) \\frac{1}{2}kx_1^2 \\cdot \\delta(x_1 - x_{in}) \\delta(x_2 - x_{jn}) + \\\\\n",
    "           &+  \\sum_{i, j = 0}^{N-1}   \\delta(x_1 - x_{im}) \\delta(x_2 - x_{jm}) \\frac{1}{2}kx_2^2 \\cdot \\delta(x_1 - x_{in}) \\delta(x_2 - x_{jn})\n",
    "\\end{align}"
   ]
  },
  {
   "cell_type": "code",
   "execution_count": null,
   "metadata": {},
   "outputs": [],
   "source": []
  },
  {
   "cell_type": "markdown",
   "metadata": {},
   "source": [
    "### Кулоновское взаимодествие"
   ]
  },
  {
   "cell_type": "markdown",
   "metadata": {},
   "source": [
    "Рассмотрим еще один пример двухчастичной задачи\n",
    "Пусть у нас имеется массивное ядро заряда Z, находящееся в начале координат и два электрона с координатами $x_1$ и $x_2$ соответственно, $x \\in (0, a]$\n",
    "Найдем волновую функцию данной системы в одномерном случае.\n",
    "\n",
    "Ее Гамильтониан будет иметь следующий вид\n",
    "$$H = -\\frac{\\hbar^2}{2m} \\nabla^2_1 -\\frac{\\hbar^2}{2m} \\nabla^2_2 - \\frac{ze^2}{x_1} - \\frac{ze^2}{x_2} + \\frac{e^2}{|x_1 - x_2|},$$\n",
    "\n",
    "где первые два слагаемых отвечают за кинетическую энергию электронов, третье и четвертое слагаемые описывают притяжение электронов к ядру, а последнее кулоновское отталкивание между электронами.\n",
    "УШ выглядит следующим образом:\n",
    "\n",
    "$$H(x_1, x_2) \\psi(x_1, x_2) = E \\psi(x_1, x_2)$$\n",
    "\n",
    "\n",
    "Будем работать в таком же базисе что и для задачи с осцилляторами:\n",
    "<!-- $$\\psi(x_1, x_2) = \\sum_{n} C_{n} \\phi_n(x_1, x_2), $$ -->\n",
    "$$\\psi(x_1, x_2) = \\sum_{i, j}\\phi(x_{i}, x_{j} \\psi(x_1, x_2) = \\sum_{i, j}\\delta(x_1 - x_i)\\cdot \\delta(x_2 - x_j) \\psi(x_1, x_2)$$"
   ]
  },
  {
   "cell_type": "markdown",
   "metadata": {},
   "source": [
    "Начальные параметры"
   ]
  },
  {
   "cell_type": "code",
   "execution_count": null,
   "metadata": {},
   "outputs": [],
   "source": []
  },
  {
   "cell_type": "markdown",
   "metadata": {},
   "source": [
    "Соберем матрицу H"
   ]
  },
  {
   "cell_type": "markdown",
   "metadata": {},
   "source": [
    "Кинетическая часть:\n",
    "\n",
    "\\begin{align}\n",
    "    H_{mn}^{grad} &= -\\frac{1}{2}\\sum_{i, j = 0}^{N-1}\\phi_{m}(x_i, x_j)(\\nabla_{1}^{2} + \\nabla_{2}^{2}) \\phi_{n}(x_i, x_j) = \\\\\n",
    "                  &= -\\frac{1}{2}\\sum_{i, j = 0}^{N-1}  \\delta(x_2 - x_{jm}) \\cdot\\delta(x_1 - x_{im}) \\frac{\\partial^2}{\\partial x_1^2} \\delta(x_1 - x_{in})\\cdot \\delta(x_2 - x_{jn}) - \\\\\n",
    "                  &-\\frac{1}{2}\\sum_{i, j = 0}^{N-1} \\delta(x_1 - x_{im})\\cdot \\delta(x_2 - x_{jm}) \\frac{\\partial^2}{\\partial x_2^2} \\delta(x_2 - x_{jn}) \\cdot \\delta(x_1 - x_{in})\n",
    "\\end{align}\n",
    "\n",
    "Притяжение к ядру:\n",
    "\n",
    "\\begin{align}\n",
    "    H_{mn}^{kernel} &= -\\sum_{i, j = 0}^{N-1}\\phi_{m}(x_i, x_j)\\left(\\frac{Z}{x_i} + \\frac{Z}{x_j}\\right) \\phi_{n}(x_i, x_j) = \\\\\n",
    "                  &= -\\sum_{i, j = 0}^{N-1} \\delta(x_2 - x_{jm}) \\cdot  \\delta(x_1 - x_{im}) \\frac{Z}{x_i} \\delta(x_1 - x_{in})\\cdot \\delta(x_2 - x_{jn}) - \\\\\n",
    "                  &-\\sum_{i, j = 0 }^{N-1} \\delta(x_1 - x_{im})\\cdot \\delta(x_2 - x_{jm}) \\frac{Z}{x_j} \\delta(x_2 - x_{jn}) \\cdot \\delta(x_1 - x_{in})\n",
    "\\end{align}\n",
    "\n",
    "Кулоновское отталкивание:\n",
    "\n",
    "\\begin{align}\n",
    "    H_{mn}^{сoulomb} &= \\sum_{i, j}^{N-1}\\phi_{m}(x_i, x_j)\\left(\\frac{1}{|x_i - x_j|}\\right) \\phi_{n}(x_i, x_j) = \\left ( V(x_i, x_j) = \\frac{1}{|x_i - x_j|}\\right ) = \\\\\n",
    "                  &= \\sum_{j = 0}^{N-1} \\delta(x_2 - x_{jm}) \\sum_{i = 0}^{N-1} \\left \\{  \\delta(x_1 - x_{im}) V(x_i, x_j) \\delta(x_1 - x_{in}) \\right \\} \\delta(x_2 - x_{jn}) = \\\\\n",
    "                  &= \\sum_{j = 0}^{N-1} \\delta(x_2 - x_{jm}) V(x_j) \\delta(x_2 - x_{jn})\n",
    "\\end{align}\n"
   ]
  },
  {
   "cell_type": "code",
   "execution_count": null,
   "metadata": {},
   "outputs": [],
   "source": []
  }
 ],
 "metadata": {
  "kernelspec": {
   "display_name": "Python 3",
   "language": "python",
   "name": "python3"
  },
  "language_info": {
   "codemirror_mode": {
    "name": "ipython",
    "version": 3
   },
   "file_extension": ".py",
   "mimetype": "text/x-python",
   "name": "python",
   "nbconvert_exporter": "python",
   "pygments_lexer": "ipython3",
   "version": "3.8.3"
  }
 },
 "nbformat": 4,
 "nbformat_minor": 4
}
