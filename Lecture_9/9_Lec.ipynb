{
 "cells": [
  {
   "cell_type": "markdown",
   "metadata": {},
   "source": [
    "## Лекция 9. Двухчастичные системы\n",
    "---\n",
    "\n",
    "Волновая функция $\\Psi(\\vec{\\textbf{r}}, t)$ в случае двух частичной задачи начнает зависеть от координат обеих частиц $$\\Psi(\\vec{\\textbf{r}}, t) = \\Psi(\\textbf{r}_1, \\textbf{r}_2, t)$$\n",
    "Эволюция система по-прежнему описывается уравнением Шредингера:\n",
    "$$i \\hbar \\frac{\\partial \\Psi}{\\partial t} = H \\Psi,$$\n",
    "\n",
    "где Гамильтониан полной системы \n",
    "\n",
    "$$H = -\\frac{\\hbar^2}{2m_1} \\nabla^2_1 -\\frac{\\hbar^2}{2m_2} \\nabla^2_2 + V(\\textbf{r}_1, \\textbf{r}_2, t)$$\n",
    "\n",
    "Условие нормировки не изменилось:\n",
    "$$\\int |\\Psi(\\textbf{r}_1, \\textbf{r}_2, t) |^2 d^3\\textbf{r}_1d^3\\textbf{r}_2 = 1,$$\n",
    "а подынтегальное выражение определяет вероятность обнаружить частицы 1 и 2 в объемах $d^3\\textbf{r}_1, d^3\\textbf{r}_2$ соответственно.\n",
    "Если потенциал не зависит от времени \n",
    "\n",
    "$$\\Psi(\\textbf{r}_1, \\textbf{r}_2, t) = \\psi(\\textbf{r}_1, \\textbf{r}_2) e^{-i\\frac{Et}{\\hbar}},$$\n",
    "\n",
    "тогда в наиболее общем УШ примет следующий вид:\n",
    "\n",
    "$$-\\frac{\\hbar^2}{2m_1} \\nabla^2_1 \\psi -\\frac{\\hbar^2}{2m_2} \\nabla^2_2 \\psi + V \\psi = E \\psi$$"
   ]
  },
  {
   "cell_type": "markdown",
   "metadata": {},
   "source": [
    "### Два осциллятора"
   ]
  },
  {
   "cell_type": "markdown",
   "metadata": {},
   "source": [
    "В качестве примера двухчастичной задачи рассмотрим два одномерных осциллятора $x \\in [-a, a)$ с $\\Delta x = 0.05$ , $a = 4$ $(N = 160)$. Гамильтониан такой системы имеет вид:\n",
    "\n",
    "$$H = \\frac{p_1^2 + p_2^2}{2m} + \\frac{1}{2}k(x_1^2 +x_2^2) = -\\frac{\\hbar^2}{2m} \\left( \\frac{\\partial^2}{\\partial x_1^2} - \\frac{\\partial^2}{\\partial x_2^2} \\right) + \\frac{1}{2}k(x_1^2 +x_2^2),$$\n",
    "\n",
    "и  само УШ соответсвенно\n",
    "$$-\\frac{\\hbar^2}{2m} \\left( \\frac{\\partial^2}{\\partial x_1^2} - \\frac{\\partial^2}{\\partial x_2^2} \\right) \\psi(x_1, x_2) + \\frac{1}{2}k(x_1^2 +x_2^2) \\psi(x_1, x_2) = E \\psi(x_1, x_2) $$\n",
    "\n",
    "Как было показано на прошлой лекции, для того чтобы решить стационарное УШ численно необходимо дискретизировать конфигурационное пространство, получить матрицу $\\hat{H}$ в каком-либо базисе и диагонализовать ее, тем самым получив коэффициенты разложения собственной функции $\\hat{C}$ и энергии $\\hat{E}$.\n",
    "\n",
    "Поэтому сначала выберем двух частичных базис в виде:\n",
    "$$\\phi(x_1, x_2) = \\delta(x_1 - x_i) \\cdot \\delta(x_2 - x_j),$$\n",
    "\n",
    "тогда разложение собственной функции $\\phi(x_1, x_2)$ по базисным векторам будет выглядеть так:\n",
    "$$\\psi(x_1, x_2) = \\sum_{i, j}\\phi(x_{i}, x_{j}) \\psi(x_1, x_2) = \\sum_{i, j}\\delta(x_1 - x_i)\\cdot \\delta(x_2 - x_j) \\psi(x_1, x_2)$$"
   ]
  },
  {
   "cell_type": "code",
   "execution_count": 1,
   "metadata": {},
   "outputs": [],
   "source": [
    "import numpy as np \n",
    "import matplotlib.pyplot as plt"
   ]
  },
  {
   "cell_type": "code",
   "execution_count": 2,
   "metadata": {},
   "outputs": [],
   "source": [
    "a = 4\n",
    "dx = 0.2\n",
    "x = np.arange(-a, a, dx)\n",
    "N = x.size"
   ]
  },
  {
   "cell_type": "code",
   "execution_count": 3,
   "metadata": {},
   "outputs": [],
   "source": [
    "phi =np.zeros((N**2, 2*N))\n",
    "for i in range(N):\n",
    "    for j in range(N):\n",
    "        phi[i*N +j, i] = 1\n",
    "        phi[i*N +j, j + N] = 1"
   ]
  },
  {
   "cell_type": "markdown",
   "metadata": {},
   "source": [
    "Теперь нам необходимо составить матрицу Гамильтониана H в выбранном нами базисе, для этого необходимо рассчитать матричные элементы от каждого из слагаемых\n",
    "\n",
    "Кинетическая часть:\n",
    "\n",
    "\n",
    "\n",
    "\\begin{align}\n",
    "    H_{mn}^{kin} &= -\\frac{\\hbar^2}{2m}\\sum_{i, j = 0}^{N-1} \\phi_m(x_i, x_j) \\frac{\\partial^2}{\\partial x_1^2}\\phi_n(x_i, x_j)  - \\frac{\\hbar^2}{2m} \\sum_{i, j = 0}^{N-1} \\phi_m(x_i, x_j) \\frac{\\partial^2}{\\partial x_2^2} \\phi_n(x_i, x_j) = \\\\\n",
    "           &= - \\frac{\\hbar^2}{2m} \\sum_{i, j = 0}^{N-1}  \\delta(x_2 - x_{jm}) \\cdot\\delta(x_1 - x_{im}) \\frac{\\partial^2}{\\partial x_1^2} \\delta(x_1 - x_{in})\\cdot \\delta(x_2 - x_{jn}) - \\\\\n",
    "           &- \\frac{\\hbar^2}{2m} \\sum_{i, j = 0}^{N-1} \\delta(x_1 - x_{im})\\cdot \\delta(x_2 - x_{jm}) \\frac{\\partial^2}{\\partial x_2^2} \\delta(x_2 - x_{jn}) \\cdot \\delta(x_1 - x_{in})\n",
    "\\end{align}\n",
    "\n",
    "\n",
    "Потенциальная часть:\n",
    "\\begin{align}\n",
    "    H_{mn}^{potential} &= \\sum_{i, j = 0}^{N-1} \\phi_m(x_i, x_j) \\frac{1}{2}k(x_1^2 +x_2^2) \\phi_n(x_i, x_j) = \\\\\n",
    "           &=  \\sum_{i, j = 0}^{N-1}   \\delta(x_1 - x_{im}) \\delta(x_2 - x_{jm}) \\frac{1}{2}kx_1^2 \\cdot \\delta(x_1 - x_{in}) \\delta(x_2 - x_{jn}) + \\\\\n",
    "           &+  \\sum_{i, j = 0}^{N-1}   \\delta(x_1 - x_{im}) \\delta(x_2 - x_{jm}) \\frac{1}{2}kx_2^2 \\cdot \\delta(x_1 - x_{in}) \\delta(x_2 - x_{jn})\n",
    "\\end{align}"
   ]
  },
  {
   "cell_type": "code",
   "execution_count": 4,
   "metadata": {},
   "outputs": [],
   "source": [
    "import tqdm"
   ]
  },
  {
   "cell_type": "code",
   "execution_count": 5,
   "metadata": {},
   "outputs": [
    {
     "name": "stderr",
     "output_type": "stream",
     "text": [
      "<ipython-input-5-3eb0805d4ca0>:2: TqdmDeprecationWarning: This function will be removed in tqdm==5.0.0\n",
      "Please use `tqdm.notebook.tqdm` instead of `tqdm.tqdm_notebook`\n",
      "  for m in tqdm.tqdm_notebook(range(N**2)):  # Use in jupyter notebook\n"
     ]
    },
    {
     "data": {
      "application/vnd.jupyter.widget-view+json": {
       "model_id": "7f6b260ee0d74698a538e67cf11da6cd",
       "version_major": 2,
       "version_minor": 0
      },
      "text/plain": [
       "HBox(children=(FloatProgress(value=0.0, max=1600.0), HTML(value='')))"
      ]
     },
     "metadata": {},
     "output_type": "display_data"
    },
    {
     "name": "stdout",
     "output_type": "stream",
     "text": [
      "\n"
     ]
    }
   ],
   "source": [
    "H = np.zeros((N**2, N**2))\n",
    "for m in tqdm.tqdm_notebook(range(N**2)):  # Use in jupyter notebook\n",
    "# for m in tqdm.tqdm(range(N**2)):  # Works anywhere\n",
    "    for n in range(N**2):\n",
    "        H[m,n] -= 0.5 * phi[m, :N][1:N-1] @ np.diff(phi[n, :N], 2) / dx**2 * phi[m, N:] @  phi[n, N:]\n",
    "        H[m,n] -= 0.5 * phi[m, N:][1:N-1] @ np.diff(phi[n, N:], 2) / dx**2 * phi[m, :N] @  phi[n, :N]\n",
    "        \n",
    "        H[m,n] += 0.5 * phi[m, :N] @ (x **2 * phi[n, :N]) * phi[m, N:] @  phi[n, N:]\n",
    "        H[m,n] += 0.5 * phi[m, N:] @ (x **2 * phi[n, N:]) * phi[m, :N] @  phi[n, :N]"
   ]
  },
  {
   "cell_type": "code",
   "execution_count": 6,
   "metadata": {},
   "outputs": [],
   "source": [
    "e, v = np.linalg.eig(H)\n",
    "indx = np.argsort(e)"
   ]
  },
  {
   "cell_type": "code",
   "execution_count": 7,
   "metadata": {},
   "outputs": [
    {
     "data": {
      "text/plain": [
       "array([0.9974968 , 1.99250919, 1.99250919, 2.98284918, 2.98284918,\n",
       "       2.98752159, 3.97052806, 3.97052806, 3.97786157, 3.97786157])"
      ]
     },
     "execution_count": 7,
     "metadata": {},
     "output_type": "execute_result"
    }
   ],
   "source": [
    "e[indx][:10]"
   ]
  },
  {
   "cell_type": "code",
   "execution_count": 8,
   "metadata": {},
   "outputs": [
    {
     "data": {
      "image/png": "[encoded data removed]",
      "text/plain": [
       "<Figure size 720x432 with 1 Axes>"
      ]
     },
     "metadata": {
      "needs_background": "light"
     },
     "output_type": "display_data"
    }
   ],
   "source": [
    "plt.figure(figsize=(10, 6))\n",
    "plt.grid( lw=0.75)\n",
    "for i in range(0, 3):\n",
    "    alpha = v[:, indx[i]] @ phi\n",
    "    plt.plot(np.abs(alpha)**2)"
   ]
  },
  {
   "cell_type": "markdown",
   "metadata": {},
   "source": [
    "### Кулоновское взаимодествие"
   ]
  },
  {
   "cell_type": "markdown",
   "metadata": {},
   "source": [
    "Рассмотрим еще один пример двухчастичной задачи\n",
    "Пусть у нас имеется массивное ядро заряда Z, находящееся в начале координат и два электрона с координатами $x_1$ и $x_2$ соответственно, $x \\in (0, a]$\n",
    "Найдем волновую функцию данной системы в одномерном случае.\n",
    "\n",
    "Ее Гамильтониан будет иметь следующий вид\n",
    "$$H = -\\frac{\\hbar^2}{2m} \\nabla^2_1 -\\frac{\\hbar^2}{2m} \\nabla^2_2 - \\frac{ze^2}{x_1} - \\frac{ze^2}{x_2} + \\frac{e^2}{|x_1 - x_2|},$$\n",
    "\n",
    "где первые два слагаемых отвечают за кинетическую энергию электронов, третье и четвертое слагаемые описывают притяжение электронов к ядру, а последнее кулоновское отталкивание между электронами.\n",
    "УШ выглядит следующим образом:\n",
    "\n",
    "$$H(x_1, x_2) \\psi(x_1, x_2) = E \\psi(x_1, x_2)$$\n",
    "\n",
    "\n",
    "Будем работать в таком же базисе что и для задачи с осцилляторами:\n",
    "<!-- $$\\psi(x_1, x_2) = \\sum_{n} C_{n} \\phi_n(x_1, x_2), $$ -->\n",
    "$$\\psi(x_1, x_2) = \\sum_{i, j}\\phi(x_{i}, x_{j} \\psi(x_1, x_2) = \\sum_{i, j}\\delta(x_1 - x_i)\\cdot \\delta(x_2 - x_j) \\psi(x_1, x_2)$$"
   ]
  },
  {
   "cell_type": "markdown",
   "metadata": {},
   "source": [
    "Начальные параметры"
   ]
  },
  {
   "cell_type": "code",
   "execution_count": 17,
   "metadata": {},
   "outputs": [],
   "source": [
    "a = 5\n",
    "Z = 2\n",
    "dx = 0.15\n",
    "x = np.arange(dx, a, dx)\n",
    "N = x.size"
   ]
  },
  {
   "cell_type": "code",
   "execution_count": 18,
   "metadata": {},
   "outputs": [],
   "source": [
    "phi =np.zeros((N**2, 2*N))\n",
    "for i in range(N):\n",
    "    for j in range(N):\n",
    "        phi[i*N +j, i] = 1\n",
    "        phi[i*N +j, j + N] = 1"
   ]
  },
  {
   "cell_type": "markdown",
   "metadata": {},
   "source": [
    "Соберем матрицу H"
   ]
  },
  {
   "cell_type": "markdown",
   "metadata": {},
   "source": [
    "Кинетическая часть:\n",
    "\n",
    "\\begin{align}\n",
    "    H_{mn}^{grad} &= -\\frac{1}{2}\\sum_{i, j = 0}^{N-1}\\phi_{m}(x_i, x_j)(\\nabla_{1}^{2} + \\nabla_{2}^{2}) \\phi_{n}(x_i, x_j) = \\\\\n",
    "                  &= -\\frac{1}{2}\\sum_{i, j = 0}^{N-1}  \\delta(x_2 - x_{jm}) \\cdot\\delta(x_1 - x_{im}) \\frac{\\partial^2}{\\partial x_1^2} \\delta(x_1 - x_{in})\\cdot \\delta(x_2 - x_{jn}) - \\\\\n",
    "                  &-\\frac{1}{2}\\sum_{i, j = 0}^{N-1} \\delta(x_1 - x_{im})\\cdot \\delta(x_2 - x_{jm}) \\frac{\\partial^2}{\\partial x_2^2} \\delta(x_2 - x_{jn}) \\cdot \\delta(x_1 - x_{in})\n",
    "\\end{align}\n",
    "\n",
    "Притяжение к ядру:\n",
    "\n",
    "\\begin{align}\n",
    "    H_{mn}^{kernel} &= -\\sum_{i, j = 0}^{N-1}\\phi_{m}(x_i, x_j)\\left(\\frac{Z}{x_i} + \\frac{Z}{x_j}\\right) \\phi_{n}(x_i, x_j) = \\\\\n",
    "                  &= -\\sum_{i, j = 0}^{N-1} \\delta(x_2 - x_{jm}) \\cdot  \\delta(x_1 - x_{im}) \\frac{Z}{x_i} \\delta(x_1 - x_{in})\\cdot \\delta(x_2 - x_{jn}) - \\\\\n",
    "                  &-\\sum_{i, j = 0 }^{N-1} \\delta(x_1 - x_{im})\\cdot \\delta(x_2 - x_{jm}) \\frac{Z}{x_j} \\delta(x_2 - x_{jn}) \\cdot \\delta(x_1 - x_{in})\n",
    "\\end{align}\n",
    "\n",
    "Кулоновское отталкивание:\n",
    "\n",
    "\\begin{align}\n",
    "    H_{mn}^{сoulomb} &= \\sum_{i, j}^{N-1}\\phi_{m}(x_i, x_j)\\left(\\frac{1}{|x_i - x_j|}\\right) \\phi_{n}(x_i, x_j) = \\left ( V(x_i, x_j) = \\frac{1}{|x_i - x_j|}\\right ) = \\\\\n",
    "                  &= \\sum_{j = 0}^{N-1} \\delta(x_2 - x_{jm}) \\sum_{i = 0}^{N-1} \\left \\{  \\delta(x_1 - x_{im}) V(x_i, x_j) \\delta(x_1 - x_{in}) \\right \\} \\delta(x_2 - x_{jn}) = \\\\\n",
    "                  &= \\sum_{j = 0}^{N-1} \\delta(x_2 - x_{jm}) V(x_j) \\delta(x_2 - x_{jn})\n",
    "\\end{align}\n"
   ]
  },
  {
   "cell_type": "code",
   "execution_count": 26,
   "metadata": {},
   "outputs": [],
   "source": [
    "V = np.zeros((N, N))\n",
    "for i in  range(N):\n",
    "    for j in range(N):\n",
    "        V[i, j] = 1 / np.abs(x[i] - x[j]) if i != j else 1e03"
   ]
  },
  {
   "cell_type": "code",
   "execution_count": 27,
   "metadata": {},
   "outputs": [
    {
     "name": "stderr",
     "output_type": "stream",
     "text": [
      "<ipython-input-27-b23ab60a4f3e>:2: TqdmDeprecationWarning: This function will be removed in tqdm==5.0.0\n",
      "Please use `tqdm.notebook.tqdm` instead of `tqdm.tqdm_notebook`\n",
      "  for m in tqdm.tqdm_notebook(range(N**2)):\n"
     ]
    },
    {
     "data": {
      "application/vnd.jupyter.widget-view+json": {
       "model_id": "e13ab1ce40954ee2922c7f6f8ae5a414",
       "version_major": 2,
       "version_minor": 0
      },
      "text/plain": [
       "HBox(children=(FloatProgress(value=0.0, max=1089.0), HTML(value='')))"
      ]
     },
     "metadata": {},
     "output_type": "display_data"
    },
    {
     "name": "stdout",
     "output_type": "stream",
     "text": [
      "\n"
     ]
    }
   ],
   "source": [
    "H = np.zeros((N**2, N**2))\n",
    "for m in tqdm.tqdm_notebook(range(N**2)):\n",
    "# for m in tqdm.tqdm(range(N**2)):\n",
    "    for n in range(N**2):\n",
    "        H[m, n] -= 0.5 * phi[m, :N][1:N-1] @ np.diff(phi[n, :N], 2) / dx**2 * phi[m, N:] @ phi[n, N:]\n",
    "        H[m, n] -= 0.5 * phi[m, N:][1:N-1] @ np.diff(phi[n, N:], 2) / dx**2 * phi[m, :N] @ phi[n, :N]\n",
    "        \n",
    "        H[m, n] -= Z * phi[m, :N] @ (phi[n, :N] / x) * phi[m, N:] @ phi[n, N:]\n",
    "        H[m, n] -= Z * phi[m, N:] @ (phi[n, N:] / x) * phi[m, :N] @ phi[n, :N]\n",
    "        \n",
    "        H[m, n] += np.sum(phi[m, N:] * np.sum(phi[m, :N] * V * phi[n, :N], axis=1) * phi[n, N:])\n",
    "        \n",
    "        "
   ]
  },
  {
   "cell_type": "code",
   "execution_count": 28,
   "metadata": {},
   "outputs": [],
   "source": [
    "e, v = np.linalg.eig(H)\n",
    "indx = np.argsort(e)"
   ]
  },
  {
   "cell_type": "code",
   "execution_count": 41,
   "metadata": {},
   "outputs": [],
   "source": [
    "alpha = v[:, indx[1]] @ phi\n",
    "alpha1 = alpha[:N]\n",
    "alpha2 = alpha[N:]\n",
    "\n",
    "alpha1 /= np.linalg.norm(alpha1, 2)\n",
    "alpha2 /= np.linalg.norm(alpha2, 2)"
   ]
  },
  {
   "cell_type": "code",
   "execution_count": 43,
   "metadata": {},
   "outputs": [
    {
     "data": {
      "text/plain": [
       "<matplotlib.legend.Legend at 0x7f725dc0fe80>"
      ]
     },
     "execution_count": 43,
     "metadata": {},
     "output_type": "execute_result"
    },
    {
     "data": {
      "image/png": "[encoded data removed]",
      "text/plain": [
       "<Figure size 864x432 with 1 Axes>"
      ]
     },
     "metadata": {
      "needs_background": "light"
     },
     "output_type": "display_data"
    }
   ],
   "source": [
    "plt.figure(figsize=(12, 6))\n",
    "plt.grid(lw=0.75)\n",
    "plt.plot(x, np.abs(alpha1) ** 2, '-o', label='$\\psi_1$')\n",
    "plt.plot(x, np.abs(alpha2) ** 2, '-o', label='$\\psi_2$')\n",
    "plt.legend()"
   ]
  },
  {
   "cell_type": "markdown",
   "metadata": {},
   "source": [
    "### Optional: Если хочется чуть побыстрее"
   ]
  },
  {
   "cell_type": "code",
   "execution_count": 31,
   "metadata": {},
   "outputs": [],
   "source": [
    "import numba"
   ]
  },
  {
   "cell_type": "code",
   "execution_count": 32,
   "metadata": {},
   "outputs": [],
   "source": [
    "@numba.njit()\n",
    "def calc(H, N, phi, Z, V, x, dx):\n",
    "    for m in range(N**2):\n",
    "        for n in range(N**2):\n",
    "            H[m, n] -= 0.5 * phi[m, :N][1:N-1] @ np.diff(phi[n, :N], 2) / dx**2 * phi[m, N:] @ phi[n, N:]\n",
    "            H[m, n] -= 0.5 * phi[m, N:][1:N-1] @ np.diff(phi[n, N:], 2) / dx**2 * phi[m, :N] @ phi[n, :N]\n",
    "\n",
    "            H[m, n] -= Z * phi[m, :N] @ (phi[n, :N] / x) * phi[m, N:] @ phi[n, N:]\n",
    "            H[m, n] -= Z * phi[m, N:] @ (phi[n, N:] / x) * phi[m, :N] @ phi[n, :N]\n",
    "\n",
    "            H[m, n] += np.sum(phi[m, N:] * np.sum(phi[m, :N] * V * phi[n, :N], axis=1) * phi[n, N:])      "
   ]
  },
  {
   "cell_type": "code",
   "execution_count": 33,
   "metadata": {},
   "outputs": [],
   "source": [
    "import time "
   ]
  },
  {
   "cell_type": "code",
   "execution_count": 34,
   "metadata": {},
   "outputs": [
    {
     "name": "stdout",
     "output_type": "stream",
     "text": [
      "T = 14.52 [s]\n"
     ]
    }
   ],
   "source": [
    "H = np.zeros((N**2, N**2))\n",
    "t1 = time.time()\n",
    "calc(H, N, phi, Z, V, x, dx)\n",
    "t2 = time.time() - t1\n",
    "print(f'T = {t2:.2f} [s]')"
   ]
  },
  {
   "cell_type": "code",
   "execution_count": 35,
   "metadata": {},
   "outputs": [],
   "source": [
    "e, v = np.linalg.eig(H)\n",
    "indx = np.argsort(e)"
   ]
  },
  {
   "cell_type": "code",
   "execution_count": 36,
   "metadata": {},
   "outputs": [
    {
     "data": {
      "text/plain": [
       "array([ -13.57496625,  -13.57496625,  -13.5290404 , ..., 1091.3962984 ,\n",
       "       1091.59841041, 1091.80935318])"
      ]
     },
     "execution_count": 36,
     "metadata": {},
     "output_type": "execute_result"
    }
   ],
   "source": [
    "e[indx]"
   ]
  },
  {
   "cell_type": "code",
   "execution_count": 44,
   "metadata": {},
   "outputs": [],
   "source": [
    "alpha = v[:, indx[1]] @ phi\n",
    "alpha1 = alpha[:N]\n",
    "alpha2 = alpha[N:]\n",
    "\n",
    "alpha1 /= np.linalg.norm(alpha1, 2)\n",
    "alpha2 /= np.linalg.norm(alpha2, 2)"
   ]
  },
  {
   "cell_type": "code",
   "execution_count": 46,
   "metadata": {},
   "outputs": [
    {
     "data": {
      "text/plain": [
       "<matplotlib.legend.Legend at 0x7f725dbee610>"
      ]
     },
     "execution_count": 46,
     "metadata": {},
     "output_type": "execute_result"
    },
    {
     "data": {
      "image/png": "[encoded data removed]",
      "text/plain": [
       "<Figure size 864x432 with 1 Axes>"
      ]
     },
     "metadata": {
      "needs_background": "light"
     },
     "output_type": "display_data"
    }
   ],
   "source": [
    "plt.figure(figsize=(12,6))\n",
    "plt.grid(lw=0.75)\n",
    "plt.plot(x, np.abs(alpha1) ** 2, '-o', label='$\\psi_1$')\n",
    "plt.plot(x, np.abs(alpha2) ** 2, '-o', label='$\\psi_2$')\n",
    "plt.legend()"
   ]
  },
  {
   "cell_type": "code",
   "execution_count": null,
   "metadata": {},
   "outputs": [],
   "source": []
  }
 ],
 "metadata": {
  "kernelspec": {
   "display_name": "Python 3",
   "language": "python",
   "name": "python3"
  },
  "language_info": {
   "codemirror_mode": {
    "name": "ipython",
    "version": 3
   },
   "file_extension": ".py",
   "mimetype": "text/x-python",
   "name": "python",
   "nbconvert_exporter": "python",
   "pygments_lexer": "ipython3",
   "version": "3.8.3"
  }
 },
 "nbformat": 4,
 "nbformat_minor": 4
}
