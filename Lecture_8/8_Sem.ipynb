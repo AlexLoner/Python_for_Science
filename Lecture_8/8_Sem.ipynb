{
 "cells": [
  {
   "cell_type": "markdown",
   "metadata": {
    "id": "a4U6XpEjwSkZ"
   },
   "source": [
    "Решите стационарное УШ в двух базисах:\n",
    "\n",
    "$H(x) = (p-1)^2/2m + (x-1)^2/2 $\n",
    "\n",
    "Считайте, что $\\hbar=1$ и $m=1$\n",
    "\n",
    "Область решения и характер дискретизации выберите такими, чтобы было видно первые три волновые функции."
   ]
  },
  {
   "cell_type": "code",
   "execution_count": null,
   "metadata": {
    "id": "-Kn1_0ZRoZ9s"
   },
   "outputs": [],
   "source": [
    "import numpy as np\n",
    "import matplotlib.pyplot as plt"
   ]
  },
  {
   "cell_type": "code",
   "execution_count": null,
   "metadata": {},
   "outputs": [],
   "source": []
  }
 ],
 "metadata": {
  "colab": {
   "collapsed_sections": [],
   "name": "Sem8.ipynb",
   "provenance": []
  },
  "kernelspec": {
   "display_name": "Python 3",
   "language": "python",
   "name": "python3"
  },
  "language_info": {
   "codemirror_mode": {
    "name": "ipython",
    "version": 3
   },
   "file_extension": ".py",
   "mimetype": "text/x-python",
   "name": "python",
   "nbconvert_exporter": "python",
   "pygments_lexer": "ipython3",
   "version": "3.8.3"
  }
 },
 "nbformat": 4,
 "nbformat_minor": 4
}
