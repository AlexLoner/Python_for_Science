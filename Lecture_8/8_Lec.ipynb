{
 "cells": [
  {
   "cell_type": "code",
   "execution_count": null,
   "metadata": {
    "id": "6GGluPC3L2ZE"
   },
   "outputs": [],
   "source": [
    "import numpy as np\n",
    "import matplotlib.pyplot as plt"
   ]
  },
  {
   "cell_type": "markdown",
   "metadata": {
    "id": "iyv7RTnpiOGR"
   },
   "source": [
    "Общее уравнение Шрёдингера (УШ):\n",
    "\n",
    "$i \\hbar \\frac{\\partial \\Psi}{\\partial t} = H \\Psi$"
   ]
  },
  {
   "cell_type": "markdown",
   "metadata": {
    "id": "__6a1LnWjW_C"
   },
   "source": [
    "Стационарный случай:\n",
    "\n",
    "$H(\\vec{r}, t) = H(\\vec{r})$\n",
    "\n",
    "Тогда решение ищем в виде:\n",
    "\n",
    "$\\Psi(\\vec{r}) = \\psi(\\vec{r}) e^{-iEt/\\hbar}$\n",
    "\n",
    "Получаем:\n",
    "\n",
    "$H(\\vec{r}) \\psi(\\vec{r}) = E\\psi(\\vec{r})$"
   ]
  },
  {
   "cell_type": "markdown",
   "metadata": {
    "id": "WSk-Y10hki2_"
   },
   "source": [
    "**Матричная техника**\n",
    "\n",
    "Имеем стационарное уравнение. Давайте выберем какой-то базис и разложим по нему функцию. \n",
    "\n",
    "*Что такое базис ?* \\\\\n",
    "*Ба́зис* — упорядоченный (конечный или бесконечный) набор векторов в векторном пространстве, такой, что любой вектор этого пространства может быть единственным образом представлен в виде линейной комбинации векторов из этого набора.\n",
    "\n",
    "Примеры базисов:\n",
    "\n",
    "1. ДСК: Вектора { $\\vec{e_x} =(1,0,0), \\vec{e_y}=(0,1,0), \\vec{e_z}=(0,0,1)$ } в трехмерном пространстве. Любой вектор $ \\vec{r} = a\\vec{e_x} + b\\vec{e_y} + c\\vec{e_z} $, т.е. $\\vec{r} = \\sum_{i = x,y,z}{r_i\\vec{e_i}}$ \\\\\n",
    "Проверка на ортогональность:\n",
    "2. Фурье: Любую функцию (на самом деле из пространства $L^2$) $f(x)$ можно разложить по функциям $e^{ikx}$. \\\\\n",
    "$f(x) = \\frac{1}{\\sqrt{2\\pi}}\\int^{+\\infty}_{-\\infty}{f(k)e^{ikx}dk}$ \\\\\n",
    "$f(k) = \\frac{1}{\\sqrt{2\\pi}}\\int^{+\\infty}_{-\\infty} f(x)e^{-ikx}dx$ \\\\\n",
    "Проверка на ортогональность:\n",
    "3. Символы Кронекера: Представим у нас задана функция на дискретном пространстве $f(x_i)$, где $x_i \\in [a,b]$  c заданным шагом $\\Delta x$.\n",
    "Тогда нашу функцию можно представить в виде: $f(x_i) = \\sum_{j =0}^{N}{} \\delta_{ij}f(x_j)$. Соответсвенно набор $\\delta_{ij}$ - базис в нашем дискретном пространстве. \\\\\n",
    "Проверка на ортогональность:\n",
    "\n",
    "\n",
    "и т.д.\n",
    "\n",
    "Является ли базисом дельта-функция $\\delta (x - \\tilde{x})$ в непрерывном пространстве? Какие у нее коэффиценты? \\\\\n",
    "$f(x) = \\int^{+\\infty}_{-\\infty}{(?) \\delta (x - \\tilde{x})d\\tilde{x}}$\n",
    "\n",
    "При использовании численных расчетов мы всегда работаем в дискретном пространстве."
   ]
  },
  {
   "cell_type": "markdown",
   "metadata": {
    "id": "4xRWF78Iw0fz"
   },
   "source": [
    "Хотим решить стационарное уравнение. Что это значит? \\\\\n",
    "Найти $E$ и $\\psi(x)$. \n",
    "\n",
    "*Сколько решений у данного уравнения?*\n",
    "\n",
    "$\\psi(x) = \\sum^{N-1}_{n=0}{C_n\\phi_n(x)}$, где $\\phi_n(x)$ - базис, а  $C_n$ - коэффициенты разложения, которые находятся из условия: \\\\\n",
    "в непрерывном: $C_n = \\int{\\phi_n(x)\\psi(x)dx}$ \\\\\n",
    "в дискретном: $C_n = \\sum_{x}{\\phi_n(x)\\psi(x)}$ \\\\\n",
    "Проверка на ортогональность: \\\\\n",
    "Нормировка:\n",
    "\n",
    "Тогда наше уравнение примет вид:\n",
    "\n",
    "$H(x) \\psi(x) = E\\psi(x)$ \\\\\n",
    "$H(x)\\sum^{N-1}_{n=0}{C_n\\phi_n(x)} = E \\sum^{N}_{n=0}{C_n\\phi_n(x)}$\n",
    "\n",
    "Используем ортогональность, домножим справа на $\\phi_m(x)$ и проинтегрируем \\\\\n",
    "( в дискретном суммируем ):\n",
    "\n",
    "$ \\int{dx\\phi_m(x)H(x)\\sum^{N-1}_{n=0}{C_n\\phi_n(x)}} = E \\int{dx\\phi_m(x)\\sum^{N-1}_{n=0}{C_n\\phi_n(x)}}$ \\\\\n",
    "$\\sum^{N-1}_{n=0}{C_n \\int{\\phi_m(x)H(x)\\phi_n(x)dx}} = EC_m$\n",
    "\n",
    "Но $m$ пробегает от 0 до N-1. Таких уравнений на коэффициенты у нас N штук. \\\\\n",
    "Соответсвенно, имеем систему уравнений:\n",
    "\n",
    "$\n",
    "\\begin{cases}\n",
    "C_0H_{00} + C_2H_{01} + ... + C_NH_{0N-1} = EC_0\n",
    "\\\\\n",
    "C_0H_{10} + C_2H_{11} + ... + C_NH_{1N-1} = EC_1\n",
    "\\\\\n",
    "...\n",
    "\\\\\n",
    "C_0H_{N-10} + C_2H_{N-11} + ... + C_N-1H_{N-1N-1} = EC_N-1 \n",
    "\\end{cases}\n",
    "$\n",
    "\n",
    "Переобозначили:\n",
    "$H_{mn} = \\int{\\phi_m(x)H(x)\\phi_n(x)dx}$\n",
    "\n",
    "Как вы знаете СЛАУ можно записать в матричном виде, как:\n",
    "\n",
    "$\\hat{H}\\vec{C} = E\\vec{C}$ \\\\\n",
    "или \\\\\n",
    "$(\\hat{H}- E\\hat{I})\\vec{C} = 0$\n",
    "\n",
    "*Когда ОСЛАУ имеет ненулевое решение?*\n",
    "\n",
    "$det(\\hat{H}- E\\hat{I}) = 0$\n",
    "\n",
    "Это уравнение вида:\n",
    "\n",
    "$a_N-1E^N-1 + a_{N-2}E^{N-2} + ... + a_0 = 0$. \\\\\n",
    "\n",
    "Корней у этого уравнения N штук (вырождены?).\n",
    "Для каждого найденного корня $E$, решая уравнение $(\\hat{H}- E\\hat{I})\\vec{C} = 0$ получим N штук наборов $\\vec{C}$. \\\\\n",
    "Вектора $\\vec{C}$ есть разложение по известному базису, откуда сразу находим N различных решений уравнения Шредингера $\\psi(x)$.\n",
    "\n",
    "*Каков размер базиса в непрерывном пространстве?*\n",
    "\n",
    "*Сколько решений получили бы в непрерывном пространстве?*\n"
   ]
  },
  {
   "cell_type": "markdown",
   "metadata": {
    "id": "FVdHj9d0h93w"
   },
   "source": [
    "Запишем все решения $\\vec{C}$ в столбцы матрицы $\\hat{C}$. Тогда можно записать в следующем виде:\n",
    "\n",
    "$\\hat{H}\\hat{C} = \\hat{C} \\hat{E}$\n",
    "\n",
    "$\\hat{E}$ - диагональная матрица, с N штук значениями E на диагонали.\n",
    "\n",
    "Домножим слева на $\\hat{C}^{-1}$- обратную матрицу.\n",
    "\n",
    "$\\hat{H}\\hat{C} = {\\hat{C}}^{-1} \\hat{C} \\hat{E}$\n",
    "\n",
    "\n",
    "${\\hat{C}}^{-1} \\hat{H}\\hat{C} = \\hat{E}$  \n",
    "\n",
    "Условие нормировки: $|\\hat{C}|^2 = \\hat{C}^+ \\hat{C} = \\hat{I}$ \\\\\n",
    "Это определяет матрицу $\\hat{C}$, как унитраную т.е.\n",
    "\n",
    "${\\hat{C}}^{-1} = \\hat{C}^+$\n",
    "\n",
    "Поэтому можно написать:\n",
    "\n",
    "$\\hat{C}^+\\hat{H}\\hat{C} = \\hat{E}$\n",
    "\n",
    "Отсюда видно, что вектора $\\hat{C}$ есть такое преобразование над матрицей $\\hat{H}$, что приводит его к диагональному виду. Поэтому поиск СЗ и СФ матрицы $\\hat{H}$ называется диагонализацией.\n",
    "\n",
    "*Вывод: \\\\\n",
    "Для того, чтобы решить стационарное УШ при помощи численных методов необходимо дискретизировать конфигурационное пространство, получить матрицу $\\hat{H}$ в каком-либо базисе и диагонализовать ее, тем самым получив $\\hat{C}$ и $\\hat{E}$.*\n",
    "\n",
    "\n"
   ]
  },
  {
   "cell_type": "code",
   "execution_count": null,
   "metadata": {},
   "outputs": [],
   "source": []
  },
  {
   "cell_type": "markdown",
   "metadata": {
    "id": "H1y7hxh-EOks"
   },
   "source": [
    "$H = \\begin{pmatrix}\n",
    "0 & 1\\\\\n",
    "1 & 0\\\\\n",
    "\\end{pmatrix}$"
   ]
  },
  {
   "cell_type": "code",
   "execution_count": null,
   "metadata": {},
   "outputs": [],
   "source": []
  },
  {
   "cell_type": "markdown",
   "metadata": {
    "id": "zxqxjaApIOk9"
   },
   "source": [
    "$H(x) = p^2 / 2m + x^2/2= -\\frac{\\hbar^2 \\partial^2}{2m\\partial x^2 } + x^2/2$\n",
    "\n",
    "$x \\in [-a, a)$ с $\\Delta x = 0.05$ , $a = 4$ $(N = 160)$\n",
    "\n",
    "Хотим решить стационарное УШ\n",
    "$H \\psi = E \\psi$\n",
    "\n",
    "*Сколько решений получим?*"
   ]
  },
  {
   "cell_type": "code",
   "execution_count": null,
   "metadata": {},
   "outputs": [],
   "source": []
  },
  {
   "cell_type": "code",
   "execution_count": null,
   "metadata": {},
   "outputs": [],
   "source": []
  },
  {
   "cell_type": "markdown",
   "metadata": {
    "id": "RKkKz9Z0JiUv"
   },
   "source": [
    "Выберем базис символов Кронекера: \\\\\n",
    "$\\delta(x_i - x_j) = \\delta_{ij}$\n",
    "\n",
    "Как они выглядят:\n",
    "\n",
    "$\\phi_0 = \\delta(x_i - x_1) = (1,0,0,..,0)$ (j=0) \\\\\n",
    "$\\phi_1 = \\delta(x_i - x_2) = (0,1,0,..,0)$ (j=1) \\\\\n",
    "...\n",
    "\n",
    "Соберем матрицу $\\hat{H}$:\n",
    "\n",
    "$H_{mn} = \\int{\\phi_m(x)H(x)\\phi_n(x)dx} = \\sum_i{\\phi_m(x_i)H(x_i)\\phi_n(x_i)}$\n",
    "\n",
    "$H(x_i)\\phi_n(x_i) = -\\frac{\\partial^2}{2\\partial x_i^2 }\\phi_n(x_i) + x^2\\phi_n(x_i)/2$\n",
    "\n",
    "Причем:\n",
    "\n",
    "$-\\frac{\\partial^2}{2\\partial x_i^2 }\\phi_n(x_i) = -\\frac{\\phi_n(x_i - \\Delta x) - 2\\phi_n(x_i) + \\phi(x_i + \\Delta x)}{2\\Delta x^2} = -\\frac{\\delta(x_i - \\Delta x - x_n) - 2\\delta(x_i - x_n) + \\delta(x_i + \\Delta x - x_n)}{2\\Delta x^2} = -\\frac{\\delta(x_i - x_{n+1}) - 2\\delta(x_i - x_n) + \\delta(x_i - x_{n-1})}{2\\Delta x^2}$\n",
    "\n",
    "\n",
    "Но мы все будем делать численно"
   ]
  },
  {
   "cell_type": "code",
   "execution_count": null,
   "metadata": {},
   "outputs": [],
   "source": []
  },
  {
   "cell_type": "code",
   "execution_count": null,
   "metadata": {},
   "outputs": [],
   "source": []
  },
  {
   "cell_type": "markdown",
   "metadata": {
    "id": "8jLEXCaXmoOm"
   },
   "source": [
    "Выберем Фурье-базис: \\\\\n",
    "$e^{ik_nx}$\n",
    "\n",
    "$k_n = -2\\pi n / (2a)$ , $n = -N/2,-N/2+1, ..., N/2-1$\n",
    "\n",
    "Как они выглядят:\n",
    "\n",
    "$\\phi_0 = e^{-i\\pi N x/2a}$ (j=0) \\\\\n",
    "$\\phi_1 = e^{-i\\pi(N-1)x/2a}$ (j=1) \\\\\n",
    "...\n",
    "\n",
    "Соберем матрицу $\\hat{H}$:\n",
    "\n",
    "$H_{mj} = \\int{\\phi_m(x)H(x)\\phi_j(x)dx} = \\sum_i{\\phi_m(x_i)H(x_i)\\phi_j(x_i)}$\n",
    "\n",
    "$H(x_i)\\phi_j(x_i) = -\\frac{\\partial^2}{2\\partial x_i^2 }\\phi_j(x_i) + x^2\\phi_j(x_i)/2$\n",
    "\n",
    "Причем :\n",
    "\n",
    "$\\frac{\\partial^2}{2\\partial x_i^2 }\\phi_j(x_i)= -{(\\frac{2 \\pi (j -N/2)}{2a})}^2 \\phi_j(x_i) / 2$\n",
    "\n",
    "Но мы все будем делать численно"
   ]
  },
  {
   "cell_type": "code",
   "execution_count": null,
   "metadata": {},
   "outputs": [],
   "source": []
  },
  {
   "cell_type": "code",
   "execution_count": null,
   "metadata": {
    "id": "e7Jyf29WmXx2"
   },
   "outputs": [],
   "source": []
  }
 ],
 "metadata": {
  "colab": {
   "collapsed_sections": [],
   "name": "Lection8.ipynb",
   "provenance": []
  },
  "kernelspec": {
   "display_name": "Python 3",
   "language": "python",
   "name": "python3"
  },
  "language_info": {
   "codemirror_mode": {
    "name": "ipython",
    "version": 3
   },
   "file_extension": ".py",
   "mimetype": "text/x-python",
   "name": "python",
   "nbconvert_exporter": "python",
   "pygments_lexer": "ipython3",
   "version": "3.8.3"
  }
 },
 "nbformat": 4,
 "nbformat_minor": 4
}
