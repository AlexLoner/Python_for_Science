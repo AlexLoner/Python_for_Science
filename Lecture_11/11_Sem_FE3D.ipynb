{
 "cells": [
  {
   "cell_type": "markdown",
   "metadata": {},
   "source": [
    "## Задание\n",
    "Решите уравнение Шредингера для свободного электрона для трехмерного случая\n",
    "\n",
    "$$H \\psi(x, y, z) = -\\frac{\\hbar^2}{2m} \\nabla^2 \\psi(x, y, z)$$\n",
    "\n",
    "Постройте собственные значения и плотность состояний"
   ]
  },
  {
   "cell_type": "code",
   "execution_count": null,
   "metadata": {},
   "outputs": [],
   "source": []
  }
 ],
 "metadata": {
  "kernelspec": {
   "display_name": "Python 3",
   "language": "python",
   "name": "python3"
  },
  "language_info": {
   "codemirror_mode": {
    "name": "ipython",
    "version": 3
   },
   "file_extension": ".py",
   "mimetype": "text/x-python",
   "name": "python",
   "nbconvert_exporter": "python",
   "pygments_lexer": "ipython3",
   "version": "3.8.3"
  }
 },
 "nbformat": 4,
 "nbformat_minor": 4
}
