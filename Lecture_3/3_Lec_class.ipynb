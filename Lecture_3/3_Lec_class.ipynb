{
 "cells": [
  {
   "cell_type": "markdown",
   "metadata": {},
   "source": [
    "## **Занятие 3. Генераторы списков. Классы** \n",
    "---"
   ]
  },
  {
   "cell_type": "markdown",
   "metadata": {},
   "source": [
    "### Генераторы списков\n",
    "Ранее мы показали две инструкции циклов в Python: `while` и `for`. В целом, этих инструкций достаточно для решения многих задач. Однако, переборы последовательностей возникают настолько часто, что были введены дополнительные инструменты, делающие эту операцию более простой и эффективной."
   ]
  },
  {
   "cell_type": "markdown",
   "metadata": {},
   "source": [
    "Ранее мы узнали, что цикл `for` может работать с последовательностям люббого типа: списки, строки, кортежи, словари.  На самом же деле данный оператор может работать с любыми *итерируемыми* объектами. Более того, это верно и для других встроенных функций и операторов, которые применимы к последовательностям: `in`, `map` и другие.\n"
   ]
  },
  {
   "cell_type": "code",
   "execution_count": null,
   "metadata": {},
   "outputs": [],
   "source": [
    "f = open('first_file.txt')"
   ]
  },
  {
   "cell_type": "code",
   "execution_count": null,
   "metadata": {},
   "outputs": [],
   "source": [
    "f.__next__()"
   ]
  },
  {
   "cell_type": "code",
   "execution_count": null,
   "metadata": {},
   "outputs": [],
   "source": [
    "f.close()"
   ]
  },
  {
   "cell_type": "markdown",
   "metadata": {},
   "source": [
    "Такое поведение называется *протоколом итераций*, то есть в объекте определен метод \\__next__, который вызывает следующее значение объекта. Такие объекты в языке Python называются *итерируемые*."
   ]
  },
  {
   "cell_type": "code",
   "execution_count": null,
   "metadata": {},
   "outputs": [],
   "source": [
    "L = [1, 2]"
   ]
  },
  {
   "cell_type": "code",
   "execution_count": null,
   "metadata": {},
   "outputs": [],
   "source": [
    "%%timeit\n",
    "L = [1, 2, 3, 4, 5]\n",
    "for i in range(len(L)):\n",
    "    L[i] += 10"
   ]
  },
  {
   "cell_type": "code",
   "execution_count": null,
   "metadata": {},
   "outputs": [],
   "source": [
    "%%timeit\n",
    "L = [1, 2, 3, 4, 5]\n",
    "L = [x + 10 for x in L]"
   ]
  },
  {
   "cell_type": "markdown",
   "metadata": {},
   "source": [
    "#### Синтаксис генераторов списков\n",
    "```\n",
    "    [<expression> for <varible> in <iterable>]\n",
    "```\n",
    "\n",
    "В действительности генераторы списков могут иметь гораздо более сложную структуру. В частности, можно дополнять генератор операторами `if` или же писать вложенные циклы"
   ]
  },
  {
   "cell_type": "code",
   "execution_count": null,
   "metadata": {},
   "outputs": [],
   "source": [
    "import random\n",
    "import string"
   ]
  },
  {
   "cell_type": "code",
   "execution_count": null,
   "metadata": {},
   "outputs": [],
   "source": [
    "a = random.choices(string.ascii_lowercase, k=50)"
   ]
  },
  {
   "cell_type": "code",
   "execution_count": null,
   "metadata": {},
   "outputs": [],
   "source": [
    "L = [letter for letter in a if letter in 'aeoiyu']"
   ]
  },
  {
   "cell_type": "code",
   "execution_count": null,
   "metadata": {},
   "outputs": [],
   "source": [
    "L = [letter if letter in 'aeoiyu' else 1 for letter in a ]"
   ]
  },
  {
   "cell_type": "code",
   "execution_count": null,
   "metadata": {},
   "outputs": [],
   "source": [
    "L = []\n",
    "for x in 'abc':\n",
    "    if x != 'b':\n",
    "        for y in 'lmn':\n",
    "            if y != 'l':\n",
    "                L.append(x + y)"
   ]
  },
  {
   "cell_type": "code",
   "execution_count": null,
   "metadata": {},
   "outputs": [],
   "source": [
    "L = [x + y for x in 'abc' if x != 'b' for y in 'lmn' if y != 'l']"
   ]
  },
  {
   "cell_type": "markdown",
   "metadata": {},
   "source": [
    "### Объекты и Классы\n",
    "\n",
    "Все значения, используемые программистами, являются объектами. Объект содержит некоторые внутренние данные и обладает методами, позволяющими выполнять различные операции над этими данными."
   ]
  },
  {
   "cell_type": "code",
   "execution_count": null,
   "metadata": {},
   "outputs": [],
   "source": [
    "lst = [45, 90, 1045]\n",
    "lst.insert(1, 12)"
   ]
  },
  {
   "cell_type": "code",
   "execution_count": null,
   "metadata": {},
   "outputs": [],
   "source": [
    "lst"
   ]
  },
  {
   "cell_type": "code",
   "execution_count": null,
   "metadata": {},
   "outputs": [],
   "source": [
    "print(dir(lst))"
   ]
  },
  {
   "cell_type": "code",
   "execution_count": null,
   "metadata": {},
   "outputs": [],
   "source": [
    "lst.__add__(['help', 'me', 'please'])"
   ]
  },
  {
   "cell_type": "markdown",
   "metadata": {},
   "source": [
    "Для определения новых объектов используется инструкция `class`. Общая форма инструкции: \n",
    "```\n",
    "    class <name>(superclass, ...):         # Присваивание имени класса\n",
    "        data = value                       # Некоторая информация о классе, используемая во всех экземплярах\n",
    "        def method(self, *args, **kwargs): # Методы класса \n",
    "            self.something = value         # Данные экземпляра\n",
    "```"
   ]
  },
  {
   "cell_type": "code",
   "execution_count": null,
   "metadata": {},
   "outputs": [],
   "source": [
    "class MyFirstClass:\n",
    "    pass"
   ]
  },
  {
   "cell_type": "code",
   "execution_count": null,
   "metadata": {},
   "outputs": [],
   "source": [
    "type(MyFirstClass())"
   ]
  },
  {
   "cell_type": "markdown",
   "metadata": {},
   "source": [
    "Класс определяет набор атрибутов, связанных с ним и используемых экземплярами этого класса. Обычно класс представляет собой коллекцию методов (функций) и вычисляемых атрибутов"
   ]
  },
  {
   "cell_type": "code",
   "execution_count": null,
   "metadata": {},
   "outputs": [],
   "source": [
    "class User:\n",
    "    \n",
    "    def __init__(self, name, email):\n",
    "        '''Конструктор экземпляра класса'''\n",
    "        self.name = name\n",
    "        self.email = email\n",
    "        self.birthday = None\n",
    "    \n",
    "    def __str__(self):\n",
    "        ''' Представление экземпляра класса'''\n",
    "        return f\"User :: <{self.name}> :: <{self.email}>\"\n",
    "    \n",
    "    def set_birthday(self, birthday):\n",
    "        self.birthday = birthday\n",
    "    \n",
    "    def get_birtday(self):\n",
    "        return 'Unknown' if self.birthday is None else self.birthday"
   ]
  },
  {
   "cell_type": "markdown",
   "metadata": {},
   "source": [
    "Функции, определяемые внутри класса, называются *методами экземпляров*. Метод экземпляра - это функция, которая использует экземпляр класса, который передается функции первым агрументом. Общепринято называть его `self`, однако вы можете назвать его как хотите **(не делайте так)**"
   ]
  },
  {
   "cell_type": "code",
   "execution_count": null,
   "metadata": {},
   "outputs": [],
   "source": [
    "dir(User)"
   ]
  },
  {
   "cell_type": "markdown",
   "metadata": {},
   "source": [
    "Экземпляры класса создаются при обращении к классу как к функции. В результате создается новый экземпляр класса, которому присущи все методы и аттрибуты класса, например"
   ]
  },
  {
   "cell_type": "code",
   "execution_count": null,
   "metadata": {},
   "outputs": [],
   "source": [
    "user = User('alex', 'brave_frog@gmail.com')"
   ]
  },
  {
   "cell_type": "code",
   "execution_count": null,
   "metadata": {},
   "outputs": [],
   "source": [
    "help(user)"
   ]
  },
  {
   "cell_type": "code",
   "execution_count": null,
   "metadata": {},
   "outputs": [],
   "source": [
    "new_user = User('slava', 'easy@mail.ru')"
   ]
  },
  {
   "cell_type": "code",
   "execution_count": null,
   "metadata": {},
   "outputs": [],
   "source": [
    "new_user.__str__()"
   ]
  },
  {
   "cell_type": "markdown",
   "metadata": {},
   "source": [
    "### Видимость \n",
    "Классы создают свои области видимости, но туда не входят пространства имен внутри методов класса. Другими словами, при создании классов ссылки на атрибуты и методы должны быть детерминированы."
   ]
  },
  {
   "cell_type": "code",
   "execution_count": null,
   "metadata": {},
   "outputs": [],
   "source": [
    "class MyClass:\n",
    "    \n",
    "    def spam(self):\n",
    "        print(f\"{spam.__name__}\")"
   ]
  },
  {
   "cell_type": "code",
   "execution_count": null,
   "metadata": {},
   "outputs": [],
   "source": [
    "MyClass().spam()"
   ]
  },
  {
   "cell_type": "markdown",
   "metadata": {},
   "source": [
    "### Объектно-ориентированное программирование\n",
    "ООП - подход к программированию, в рамках которого программа представляется в виде объектов, каждый из которых является экземпляром какого-нибудь класса, а сами классы образуют некоторую иерархию наследования.\n",
    "Рассмотрим основные принципы ООП в Python: наследование, инкапсуляцию и полиморфизм.\n",
    "\n",
    ">Наследование - это механизм создания новых классов, призванный настроить или дополнить поведение существующего класса. \n",
    "\n",
    ">Инкапсуляция - это подход в ООП, позволяющий скрывать методы или атрибуты класса\n",
    "\n",
    ">Полиморфизм - термин “полиморфизм” обозначает семейство различных механизмов, позволяющих использовать один и тот же участок программы с различными типами в различных контекстах."
   ]
  }
 ],
 "metadata": {
  "kernelspec": {
   "display_name": "Python 3",
   "language": "python",
   "name": "python3"
  },
  "language_info": {
   "codemirror_mode": {
    "name": "ipython",
    "version": 3
   },
   "file_extension": ".py",
   "mimetype": "text/x-python",
   "name": "python",
   "nbconvert_exporter": "python",
   "pygments_lexer": "ipython3",
   "version": "3.8.3"
  }
 },
 "nbformat": 4,
 "nbformat_minor": 4
}
