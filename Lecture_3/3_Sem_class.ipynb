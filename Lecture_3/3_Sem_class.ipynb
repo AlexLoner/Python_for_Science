{
 "cells": [
  {
   "cell_type": "markdown",
   "metadata": {},
   "source": [
    "### **Задание 1**\n",
    "\n",
    "---\n",
    "Написать класс, который будет работать со списками, как с векторами. На вход подаются два списка. Класс должен содержать:\n",
    "* функцию для нахождения скалярного произведения векторов\n",
    "* функцию для нахождения модуля векторов\n",
    "* функцию, которая нормирует оба вектора.  \n",
    "\n",
    "Шаблон класса представлен ниже:"
   ]
  },
  {
   "cell_type": "code",
   "execution_count": null,
   "metadata": {},
   "outputs": [],
   "source": [
    "class Vector:\n",
    "    \"\"\"\n",
    "    Класс для работы со списками как с векторами. \n",
    "    \"\"\"\n",
    "    \n",
    "    def __init__(self, a: list, b: list):\n",
    "        '''\n",
    "        Конструктор класса. На вход принимает два списка\n",
    "        '''\n",
    "        pass\n",
    "    \n",
    "    def norm(self):\n",
    "        '''\n",
    "        Находит значение модуля каждого из векторов \n",
    "        '''\n",
    "        self.anorm = ... \n",
    "        self.bnorm = ...\n",
    "    \n",
    "    def scalar(self):\n",
    "        '''\n",
    "        Возвращает значение скалярного произведения векторов\n",
    "        '''\n",
    "        pass\n",
    "    \n",
    "    def normilise(self):\n",
    "        '''\n",
    "        Нормирует вектора self.a, self.b\n",
    "        '''\n",
    "        pass"
   ]
  },
  {
   "cell_type": "markdown",
   "metadata": {},
   "source": [
    "### **Задача 2**\n",
    "---\n",
    "\n",
    "Напишите класс реализующий игру [Висельница](https://ru.wikipedia.org/wiki/%D0%92%D0%B8%D1%81%D0%B5%D0%BB%D0%B8%D1%86%D0%B0_(%D0%B8%D0%B3%D1%80%D0%B0)).\n",
    "Конструктор класса должен принимать либо загаданное слово `word`, либо брать произвольное слово из файла (файл words.txt, можете добавить туда что-нибудь), а также максимальное количество ошибочных попыток `guess`. Игра должна запускаться методом `run_game()`."
   ]
  },
  {
   "cell_type": "code",
   "execution_count": null,
   "metadata": {},
   "outputs": [],
   "source": [
    "import random\n",
    "\n",
    "class HangMan:\n",
    "    '''Игра Висельница'''\n",
    "    \n",
    "    path_to_file = 'data/words.txt'\n",
    "    alphabet = 'абвгдеёжзийклмнопрстуфхцчшщъыьэюя'\n",
    "    \n",
    "    def __init__(self, word=None, guess=8):\n",
    "        \"\"\"Конструктор класса.\"\"\"\n",
    "        self.guess = ...\n",
    "        self.secret_word = word if word is not None else self._get_secret_word()\n",
    "        self.guessed_letters = []\n",
    "        \n",
    "    def _get_secret_word(self):\n",
    "        \"\"\"Считывает все слова из файла и выбирает произвольное\"\"\"\n",
    "        ...\n",
    "        \n",
    "        \n",
    "    def get_available_letters(self):\n",
    "        '''Функция должна вернуть строку с буквами, которые еще не были выбраны пользователем'''\n",
    "        ...\n",
    "        \n",
    "    def get_guessed_word(self):\n",
    "        '''\n",
    "        Функция возвращает строку, состоящую из нижних подчеркиваний для неотгаданных букв \n",
    "        и открытых отгаданных букв.\n",
    "        '''\n",
    "        ...\n",
    "    \n",
    "    def is_word_guessed(self):\n",
    "        \"\"\"\n",
    "        Функция вернет True, если все буквы в загаданном слове (self.secret_word) \n",
    "        будут в угаданы, то есть находиться в списке self.guessed_letters\n",
    "        \"\"\"\n",
    "        ...\n",
    "        \n",
    "        \n",
    "    def run_game(self):\n",
    "        ..."
   ]
  }
 ],
 "metadata": {
  "kernelspec": {
   "display_name": "Python 3",
   "language": "python",
   "name": "python3"
  },
  "language_info": {
   "codemirror_mode": {
    "name": "ipython",
    "version": 3
   },
   "file_extension": ".py",
   "mimetype": "text/x-python",
   "name": "python",
   "nbconvert_exporter": "python",
   "pygments_lexer": "ipython3",
   "version": "3.8.3"
  }
 },
 "nbformat": 4,
 "nbformat_minor": 4
}
