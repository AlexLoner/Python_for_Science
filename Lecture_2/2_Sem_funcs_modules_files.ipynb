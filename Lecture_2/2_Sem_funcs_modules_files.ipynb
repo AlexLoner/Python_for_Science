{
 "cells": [
  {
   "cell_type": "markdown",
   "metadata": {},
   "source": [
    "### **Задача 1**\n",
    "---\n",
    "Написать функцию, которая вычисляет площадь прямоугольника если подается два аргумента - длина, ширина; и объем параллелепипеда, если три аргумента - длина, ширина, высота\n",
    "\n",
    "Пример работы программмы:\n",
    "\n",
    "| Input | Output | \n",
    "| --- | --- | \n",
    "| func(2, 10) | 20 |\n",
    "| func(2, 10, 3) | 60 |"
   ]
  },
  {
   "cell_type": "code",
   "execution_count": null,
   "metadata": {},
   "outputs": [],
   "source": []
  },
  {
   "cell_type": "markdown",
   "metadata": {},
   "source": [
    "### **Задача 2**\n",
    "---\n",
    "Написать функцию, которая вычисляет среднее значение последовательности, записанной в файле massiv.txt (в папке files). Использовать список или иную структуру данных для хранения всех элементов из файла не разрешается.\n",
    "\n",
    "P.S.Часто вы не знаете насколько огромен ваш массив данных, потому его хранение целиком в оперативной памяти иногда не представляется возможным. Мы не стали делать текстовый файл с массивом чисел размером 10Гб, хотя и могли\n",
    "\n",
    "Файл выглядит следующим образом:\n",
    "\n",
    "| |\n",
    "|---|\n",
    "0.10131835265005673\n",
    "0.837018170020809\n",
    "0.6569898278789958\n",
    "0.2801399130825565\n",
    "0.9283355995447813\n",
    "0.5180569783292195\n",
    "0.7923349976774005\n",
    "0.7311787893344106\n",
    "0.8608160909977728\n",
    "..."
   ]
  },
  {
   "cell_type": "code",
   "execution_count": null,
   "metadata": {},
   "outputs": [],
   "source": []
  },
  {
   "cell_type": "markdown",
   "metadata": {},
   "source": [
    "### **Задача 3**\n",
    "---\n",
    "Написать модуль, с помощью которого можно вычислить значение *n*-ой производной функции $e^{x^2}$ в нуле. \n",
    "\n",
    "Найти 20 производную $e^{x^2}$ в нуле.\n",
    "\n",
    "Hint: Разложение Тейлора функции\n",
    "### $ e^{x^2} = 1 + x^2 + \\frac{x^4}{2} + ... = \\sum_{k=0}^{\\infty} \\frac{x^{2k}}{k!}$"
   ]
  },
  {
   "cell_type": "code",
   "execution_count": null,
   "metadata": {},
   "outputs": [],
   "source": []
  },
  {
   "cell_type": "markdown",
   "metadata": {},
   "source": [
    "### **Задача 4**\n",
    "---\n",
    "Согласно [\"Жизни двенадцати цезарей\"](https://ru.wikipedia.org/wiki/%D0%96%D0%B8%D0%B7%D0%BD%D1%8C_%D0%B4%D0%B2%D0%B5%D0%BD%D0%B0%D0%B4%D1%86%D0%B0%D1%82%D0%B8_%D1%86%D0%B5%D0%B7%D0%B0%D1%80%D0%B5%D0%B9) Гай Юлий Цезарь использовал специальный шифр для защиты своих военных сообщений.\n",
    "> *Если у него было что-либо конфиденциальное для передачи, то он записывал это шифром, то есть так изменял порядок букв алфавита, что нельзя было разобрать ни одно слово. Если кто-либо хотел дешифровать его и понять его значение, то он должен был подставлять четвертую букву алфавита, а именно, D, для A, и так далее, с другими буквами.*\n",
    ">\n",
    "> Гай Светоний Транквилл Жизнь двенадцати цезарей, Книга первая, гл. 56\n",
    "\n",
    "Таким образом, каждому символу алфавита присваивается целое число от нуля и так далле. Затем, выбирается некоторое целое число (shift), на которое смещаются все символы.\n",
    "\n",
    "\n",
    "Original:  a b c d e f g h i j k l m n o p q r s t u v w x y z \\\n",
    " 3-shift:  d e f g h i j k l m n o p q r s t u v w x y z a b c\n",
    " \n",
    " ![](https://upload.wikimedia.org/wikipedia/commons/2/2b/Caesar3.svg)\n",
    "\n",
    "В этом задании мы предлагаем вам попробовать расшифровать наше сообщение, зашифрованное схожим образом, написав функцию `decryption(s, shift)`. Функция принимает первым аргументом зашифрованное сообщение, а вторым некоторый сдвиг.\n",
    "\n",
    "Чтобы не писать все буквы алвавита в ручную, воспользуйтесь модулем `string`"
   ]
  },
  {
   "cell_type": "code",
   "execution_count": 3,
   "metadata": {},
   "outputs": [],
   "source": [
    "import string\n",
    "alphabet = string.ascii_lowercase"
   ]
  },
  {
   "cell_type": "code",
   "execution_count": 4,
   "metadata": {},
   "outputs": [
    {
     "data": {
      "text/plain": [
       "'abcdefghijklmnopqrstuvwxyz'"
      ]
     },
     "execution_count": 4,
     "metadata": {},
     "output_type": "execute_result"
    }
   ],
   "source": [
    "alphabet"
   ]
  },
  {
   "cell_type": "code",
   "execution_count": null,
   "metadata": {},
   "outputs": [],
   "source": [
    "def decryption(s: str, shift: int):\n",
    "    # Ваш код\n",
    "    ...\n",
    "    "
   ]
  },
  {
   "cell_type": "code",
   "execution_count": null,
   "metadata": {},
   "outputs": [],
   "source": []
  }
 ],
 "metadata": {
  "kernelspec": {
   "display_name": "Python 3",
   "language": "python",
   "name": "python3"
  },
  "language_info": {
   "codemirror_mode": {
    "name": "ipython",
    "version": 3
   },
   "file_extension": ".py",
   "mimetype": "text/x-python",
   "name": "python",
   "nbconvert_exporter": "python",
   "pygments_lexer": "ipython3",
   "version": "3.7.6"
  }
 },
 "nbformat": 4,
 "nbformat_minor": 4
}
