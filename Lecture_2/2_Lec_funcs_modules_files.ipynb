{
 "cells": [
  {
   "cell_type": "markdown",
   "metadata": {},
   "source": [
    "#### Решение первой задачи\n",
    "Определите является ли строка палиндромом."
   ]
  },
  {
   "cell_type": "code",
   "execution_count": null,
   "metadata": {},
   "outputs": [],
   "source": [
    "# Решение №1\n",
    "s = 'anna'\n",
    "N = len(s)\n",
    "flag = True\n",
    "for i in range(N):\n",
    "    if s[i] != s[N - i - 1]:\n",
    "        flag = False\n",
    "print(flag)"
   ]
  },
  {
   "cell_type": "code",
   "execution_count": null,
   "metadata": {},
   "outputs": [],
   "source": [
    "# Решение №2 (Использует наименьшее число операций)\n",
    "s = 'anna'\n",
    "N = len(s)\n",
    "flag = True\n",
    "for i in range(N//2): # до половины массива\n",
    "    if s[i] != s[N - 1 - i]: # s[i] != s[-1 - i]  s[N-1]=s[-1], s[N-2]=s[-2] и т.д.\n",
    "        flag = False\n",
    "        break\n",
    "print(flag)"
   ]
  },
  {
   "cell_type": "code",
   "execution_count": null,
   "metadata": {},
   "outputs": [],
   "source": [
    "# Решение №3\n",
    "s ='anna'\n",
    "print(s == s[::-1])"
   ]
  },
  {
   "cell_type": "markdown",
   "metadata": {},
   "source": [
    "### Функции\n",
    "\n",
    "#### Встроенные функции\n",
    "Некоторые функции и переменные всегда доступпны для использования без дополнительного импортирования"
   ]
  },
  {
   "cell_type": "code",
   "execution_count": null,
   "metadata": {},
   "outputs": [],
   "source": [
    "len('abcd')"
   ]
  },
  {
   "cell_type": "code",
   "execution_count": null,
   "metadata": {},
   "outputs": [],
   "source": [
    "print('a')"
   ]
  },
  {
   "cell_type": "code",
   "execution_count": null,
   "metadata": {},
   "outputs": [],
   "source": [
    "abs(-4)"
   ]
  },
  {
   "cell_type": "code",
   "execution_count": null,
   "metadata": {},
   "outputs": [],
   "source": [
    "sum([1, 2, 3, 4])"
   ]
  },
  {
   "cell_type": "markdown",
   "metadata": {},
   "source": [
    "Остальные встроенные функции [здесь](https://docs.python.org/3/library/functions.html)"
   ]
  },
  {
   "cell_type": "markdown",
   "metadata": {},
   "source": [
    "#### Объявление функции"
   ]
  },
  {
   "cell_type": "markdown",
   "metadata": {},
   "source": [
    "**Общий вид** \n",
    "\n",
    "```\n",
    "def <function_name>(arguments):\n",
    "\n",
    "    <<some code here>>\n",
    "    return <something>\n",
    "```"
   ]
  },
  {
   "cell_type": "code",
   "execution_count": null,
   "metadata": {},
   "outputs": [],
   "source": [
    "def f(x):\n",
    "    y = x + 2\n",
    "    return y"
   ]
  },
  {
   "cell_type": "code",
   "execution_count": null,
   "metadata": {},
   "outputs": [],
   "source": [
    "f(1)"
   ]
  },
  {
   "cell_type": "code",
   "execution_count": null,
   "metadata": {},
   "outputs": [],
   "source": [
    "def name_func():\n",
    "    print('I am function')"
   ]
  },
  {
   "cell_type": "code",
   "execution_count": null,
   "metadata": {},
   "outputs": [],
   "source": [
    "name_func()"
   ]
  },
  {
   "cell_type": "code",
   "execution_count": null,
   "metadata": {},
   "outputs": [],
   "source": [
    "def mult(x, y):\n",
    "    x * y"
   ]
  },
  {
   "cell_type": "code",
   "execution_count": null,
   "metadata": {},
   "outputs": [],
   "source": [
    "mult(1, 2) #not print"
   ]
  },
  {
   "cell_type": "code",
   "execution_count": null,
   "metadata": {},
   "outputs": [],
   "source": [
    "def mult(x, y):\n",
    "    return x * y"
   ]
  },
  {
   "cell_type": "code",
   "execution_count": null,
   "metadata": {},
   "outputs": [],
   "source": [
    "mult(2,3)"
   ]
  },
  {
   "cell_type": "code",
   "execution_count": null,
   "metadata": {},
   "outputs": [],
   "source": [
    "res = mult(2,3)\n",
    "print(res)\n",
    "print(mult(2,3))"
   ]
  },
  {
   "cell_type": "code",
   "execution_count": null,
   "metadata": {},
   "outputs": [],
   "source": [
    "def scalar_mult(vec1, vec2):\n",
    "    res = 0\n",
    "    for i in range(len(vec1)):\n",
    "        res += vec1[i] * vec2[i] # res = res + vec1[i] * vec2[i]\n",
    "    return res"
   ]
  },
  {
   "cell_type": "code",
   "execution_count": null,
   "metadata": {},
   "outputs": [],
   "source": [
    "scalar_mult([1,2,3], [4,5,6]) # (a,b)"
   ]
  },
  {
   "cell_type": "code",
   "execution_count": null,
   "metadata": {},
   "outputs": [],
   "source": [
    "def pew(a, b, c=1):\n",
    "    return a + b - c"
   ]
  },
  {
   "cell_type": "code",
   "execution_count": null,
   "metadata": {},
   "outputs": [],
   "source": [
    "pew(1, 2, 3)"
   ]
  },
  {
   "cell_type": "code",
   "execution_count": null,
   "metadata": {},
   "outputs": [],
   "source": [
    "pew(1, 2)"
   ]
  },
  {
   "cell_type": "code",
   "execution_count": null,
   "metadata": {},
   "outputs": [],
   "source": [
    "pew(c=2, a=2, b=3)"
   ]
  },
  {
   "cell_type": "code",
   "execution_count": null,
   "metadata": {},
   "outputs": [],
   "source": [
    "pew([1, 2, 3])"
   ]
  },
  {
   "cell_type": "code",
   "execution_count": null,
   "metadata": {},
   "outputs": [],
   "source": [
    "def f(*a):\n",
    "    print(a)\n",
    "    return a[0] + a[1]"
   ]
  },
  {
   "cell_type": "code",
   "execution_count": null,
   "metadata": {},
   "outputs": [],
   "source": [
    "f(1, 2, 3, 4, 5)"
   ]
  },
  {
   "cell_type": "code",
   "execution_count": null,
   "metadata": {},
   "outputs": [],
   "source": [
    "def f(*a):\n",
    "    print(a)\n",
    "    return a[0] * a[1], 10 * a[2], a[3], a[4]"
   ]
  },
  {
   "cell_type": "code",
   "execution_count": null,
   "metadata": {},
   "outputs": [],
   "source": [
    "f(1, 2, 3, 4, 5)"
   ]
  },
  {
   "cell_type": "code",
   "execution_count": null,
   "metadata": {},
   "outputs": [],
   "source": [
    "a, b, c, d = f(1, 2, 3, 4, 5)\n",
    "a + b - c - d"
   ]
  },
  {
   "cell_type": "code",
   "execution_count": null,
   "metadata": {},
   "outputs": [],
   "source": [
    "a, *b, c = f(1, 2, 3, 4, 5) #распаковка нескольких значений в одну переменную\n",
    "b"
   ]
  },
  {
   "cell_type": "code",
   "execution_count": null,
   "metadata": {},
   "outputs": [],
   "source": [
    "def f(**kw):   \n",
    "    print(kw)\n",
    "    print(a,b)"
   ]
  },
  {
   "cell_type": "code",
   "execution_count": null,
   "metadata": {},
   "outputs": [],
   "source": [
    "f(a=1, b=3)"
   ]
  },
  {
   "cell_type": "code",
   "execution_count": null,
   "metadata": {},
   "outputs": [],
   "source": [
    "def f(r, y, *a, j=10, **kw):\n",
    "    print(r, y)\n",
    "    print(kw)    \n",
    "    print(a)\n",
    "    print(j)"
   ]
  },
  {
   "cell_type": "code",
   "execution_count": null,
   "metadata": {},
   "outputs": [],
   "source": [
    "f(678, 677777, j='ghjg', a=1, t=3)"
   ]
  },
  {
   "cell_type": "markdown",
   "metadata": {},
   "source": [
    "\n",
    "**Объявление лямбда функции**\n",
    "```\n",
    "<name> = lambda <arguments>: <some code>\n",
    "```"
   ]
  },
  {
   "cell_type": "code",
   "execution_count": null,
   "metadata": {},
   "outputs": [],
   "source": [
    "my_func = lambda x,y: x + y # анонимные / лямбда функции"
   ]
  },
  {
   "cell_type": "code",
   "execution_count": null,
   "metadata": {},
   "outputs": [],
   "source": [
    "my_func(10, 11)"
   ]
  },
  {
   "cell_type": "code",
   "execution_count": null,
   "metadata": {},
   "outputs": [],
   "source": [
    "(lambda x,y: x + y)(10,11)"
   ]
  },
  {
   "cell_type": "markdown",
   "metadata": {},
   "source": [
    "**Области видимости**"
   ]
  },
  {
   "cell_type": "code",
   "execution_count": null,
   "metadata": {},
   "outputs": [],
   "source": [
    "#локальные переменные\n",
    "def increase(a):\n",
    "    a += 1\n",
    "    return a\n",
    "\n",
    "a = 3\n",
    "print(increase(a))\n",
    "print(a)"
   ]
  },
  {
   "cell_type": "code",
   "execution_count": null,
   "metadata": {},
   "outputs": [],
   "source": [
    "#нелокальные переменные\n",
    "abc = 100\n",
    "\n",
    "def res1():\n",
    "    return abc\n",
    "\n",
    "def res2(abc):\n",
    "    return abc\n",
    "\n",
    "print(res1())\n",
    "print(res2(200))\n",
    "print(abc)"
   ]
  },
  {
   "cell_type": "code",
   "execution_count": null,
   "metadata": {},
   "outputs": [],
   "source": [
    "abc = 100\n",
    "def res1():\n",
    "    abc += 10\n",
    "\n",
    "res1()"
   ]
  },
  {
   "cell_type": "code",
   "execution_count": null,
   "metadata": {},
   "outputs": [],
   "source": [
    "abc = 100\n",
    "\n",
    "def res1():\n",
    "    global abc #говорим функции, что она глобальная\n",
    "    abc += 10\n",
    "\n",
    "res1()\n",
    "print(abc)"
   ]
  },
  {
   "cell_type": "code",
   "execution_count": null,
   "metadata": {},
   "outputs": [],
   "source": [
    "abc = 100\n",
    "\n",
    "def res1():\n",
    "    global abc #говорим функции, что она глобальная\n",
    "    abc += 10\n",
    "\n",
    "res1()\n",
    "print(abc)"
   ]
  },
  {
   "cell_type": "code",
   "execution_count": null,
   "metadata": {},
   "outputs": [],
   "source": [
    "#изменяемые и неизменяемые\n",
    "a = [1,2,3]\n",
    "\n",
    "def ne_trick(listik):\n",
    "    listik = ['focus', 2 ,3 ]\n",
    "    return listik\n",
    "\n",
    "print(ne_trick(a))\n",
    "print(a)"
   ]
  },
  {
   "cell_type": "code",
   "execution_count": null,
   "metadata": {},
   "outputs": [],
   "source": [
    "a = [1,2,3]\n",
    "def trick(listik):\n",
    "    listik[0] = 'focus'\n",
    "    return listik\n",
    "\n",
    "\n",
    "\n",
    "print (trick(a))\n",
    "print(a)"
   ]
  },
  {
   "cell_type": "code",
   "execution_count": null,
   "metadata": {},
   "outputs": [],
   "source": [
    "a = [1,2,3]\n",
    "b = a\n",
    "b[0] = 2\n",
    "print(a)\n",
    "print(b)"
   ]
  },
  {
   "cell_type": "code",
   "execution_count": null,
   "metadata": {},
   "outputs": [],
   "source": [
    "a = [1,2,3]\n",
    "b = a\n",
    "b = [2,2,3]\n",
    "print(a)\n",
    "print(b)"
   ]
  },
  {
   "cell_type": "markdown",
   "metadata": {},
   "source": [
    "####  Рекурсия\n",
    "Функция может вызывать другую функцию, а может вызывать и саму себя."
   ]
  },
  {
   "cell_type": "markdown",
   "metadata": {},
   "source": [
    "Числа Фибоначчи:\n",
    "\n",
    "0, 1, 1, 2, 3, 5, 8, 13, 21, 34, 55, 89, 144, 233, ..."
   ]
  },
  {
   "cell_type": "markdown",
   "metadata": {},
   "source": [
    "Формула для чисел Фибоначии:\n",
    "![](https://wikimedia.org/api/rest_v1/media/math/render/svg/fb00d6391fcc3ca212e710c11f1229d639930a50)\n",
    "![](https://wikimedia.org/api/rest_v1/media/math/render/svg/0c67cd515b4c0d5348ab1c3dff298f8854cf4599)"
   ]
  },
  {
   "cell_type": "markdown",
   "metadata": {},
   "source": [
    "*Найти n-ое число Фибоначчи*"
   ]
  },
  {
   "cell_type": "code",
   "execution_count": null,
   "metadata": {},
   "outputs": [],
   "source": [
    "def fib(n):\n",
    "    if n == 0 or n == 1:\n",
    "        return n\n",
    "    else:\n",
    "        return fib(n - 1) + fib(n - 2)"
   ]
  },
  {
   "cell_type": "code",
   "execution_count": null,
   "metadata": {},
   "outputs": [],
   "source": [
    "import sys\n"
   ]
  },
  {
   "cell_type": "code",
   "execution_count": null,
   "metadata": {},
   "outputs": [],
   "source": [
    "sys.getrecursionlimit()"
   ]
  },
  {
   "cell_type": "code",
   "execution_count": null,
   "metadata": {},
   "outputs": [],
   "source": [
    "sys.setrecursionlimit(5000)"
   ]
  },
  {
   "cell_type": "code",
   "execution_count": null,
   "metadata": {},
   "outputs": [],
   "source": [
    "sys.getrecursionlimit()"
   ]
  },
  {
   "cell_type": "code",
   "execution_count": null,
   "metadata": {},
   "outputs": [],
   "source": [
    "fib(13)"
   ]
  },
  {
   "cell_type": "code",
   "execution_count": null,
   "metadata": {},
   "outputs": [],
   "source": [
    "fib(1000000) # Максимальная глубина рекурсии"
   ]
  },
  {
   "cell_type": "markdown",
   "metadata": {},
   "source": [
    "**Проблема с пересчетом**\n",
    "\n",
    "\n",
    "![](https://study.sfu-kras.ru/DATA/docs/ProgramTheory/recurs/fibo.gif)"
   ]
  },
  {
   "cell_type": "markdown",
   "metadata": {},
   "source": [
    "**Задание** \n",
    "\n",
    "Проверить является ли строка палиндромом."
   ]
  },
  {
   "cell_type": "code",
   "execution_count": null,
   "metadata": {},
   "outputs": [],
   "source": [
    "# Решение №4\n",
    "def f(s):\n",
    "    if s != '':\n",
    "        if s[0] == s[-1]: #проверяем совпадают ли первый и последний\n",
    "            return f(s[1:-1]) #отрезаем их и снова подаем в функцию\n",
    "        else:\n",
    "            return  False\n",
    "    else:\n",
    "        return True #если от строки ничего не осталось проверка пройдена"
   ]
  },
  {
   "cell_type": "code",
   "execution_count": null,
   "metadata": {},
   "outputs": [],
   "source": [
    "# Решение №4\n",
    "def f(s):\n",
    "    if s == '':\n",
    "        return True\n",
    "    return s[0] == s[-1] and f(s[1:-1])"
   ]
  },
  {
   "cell_type": "code",
   "execution_count": null,
   "metadata": {},
   "outputs": [],
   "source": [
    "f('answesna')"
   ]
  },
  {
   "cell_type": "markdown",
   "metadata": {},
   "source": [
    "**Задание**\n",
    "\n",
    "Написать функцию факториала"
   ]
  },
  {
   "cell_type": "code",
   "execution_count": null,
   "metadata": {},
   "outputs": [],
   "source": [
    "def factorial(n):\n",
    "    if n == 0: # 0! = 1\n",
    "        return 1\n",
    "    else:\n",
    "        return n * fact(n - 1)"
   ]
  },
  {
   "cell_type": "code",
   "execution_count": null,
   "metadata": {},
   "outputs": [],
   "source": [
    "factorial(10)"
   ]
  },
  {
   "cell_type": "markdown",
   "metadata": {},
   "source": [
    "### Модули\n",
    "Зачастую при разработке какого-нибудь проекта, написанный программный код разрастается и работать с ним становится некомфортно (даже после разбиения его на отдельный функции или другие структуры). В таком случае полезно разделять программный код на отдельные логические части и \"прятать\" их в модули.\n",
    "\n",
    "Любой файл с текстом на языке Python может быть использован в качестве модуля. Такие файлы имеют расширение `.py`, например, `fft.py`."
   ]
  },
  {
   "cell_type": "markdown",
   "metadata": {},
   "source": [
    "Рассмотрим в качестве примера модули в папке *modules_examples*. \n",
    "\n",
    "Загрузить файл с этим исходным кодом, как модуль, можно с помощью инструкции `import modules_examples.test_module1` *(так как файл `test_module1.py` находится не в той же самой директории, что наш файл с лекцией, то необходимо дописывать путь до файла).*"
   ]
  },
  {
   "cell_type": "code",
   "execution_count": null,
   "metadata": {},
   "outputs": [],
   "source": [
    "import modules_examples.test_module1 as tm1  # Загрузит и выполнит все инструкции в файле\n",
    "                                             # чтобы не писать длинное имя файла при каждом обращении \n",
    "                                             # к функциям модуля, сократим его имя с помощью\n",
    "                                             # инструкции as <<любое удобное имя>>."
   ]
  },
  {
   "cell_type": "markdown",
   "metadata": {},
   "source": [
    "Команда `import` выполняет все инструкции в загруженном файле, поэтому появляется вывод функции `print`. Инструкция `import` может появляться в любом месте программы. Однако программный код любого модуля загружается и выполняется только один раз, независимо от количества инструкций `import`, загружающих его. Все последующие инструкции `import` будут просто связывать имя модуля с объектом модуля, созданным первой встретившейся инструкцией `import`."
   ]
  },
  {
   "cell_type": "code",
   "execution_count": null,
   "metadata": {},
   "outputs": [],
   "source": [
    "import modules_examples.test_module1 as tm1"
   ]
  },
  {
   "cell_type": "code",
   "execution_count": null,
   "metadata": {},
   "outputs": [],
   "source": [
    "tm1.var1"
   ]
  },
  {
   "cell_type": "code",
   "execution_count": null,
   "metadata": {},
   "outputs": [],
   "source": [
    "tm1.some_cool_function()"
   ]
  },
  {
   "cell_type": "code",
   "execution_count": null,
   "metadata": {},
   "outputs": [],
   "source": [
    "tm1.func('type', 'something')"
   ]
  },
  {
   "cell_type": "markdown",
   "metadata": {},
   "source": [
    "#### Импортирование отдельных имен из модулей\n",
    "Иногда из всего модуля нам необходимо всего несколько функций и нам не хочется импортировать его целиком. Тогда можно воспользоваться инструкцией `from <module> import <function1>, <function2>`."
   ]
  },
  {
   "cell_type": "code",
   "execution_count": null,
   "metadata": {},
   "outputs": [],
   "source": [
    "from modules_examples.test_module2 import prod"
   ]
  },
  {
   "cell_type": "code",
   "execution_count": null,
   "metadata": {},
   "outputs": [],
   "source": [
    "prod(2, 3, 4)"
   ]
  },
  {
   "cell_type": "markdown",
   "metadata": {},
   "source": [
    "Инструкция `from` полностью идентична `import`, для того чтобы подгрузить все функции в модуле через инструкцию `from` можно воспользоваться выражением `from <module> import *`. \n",
    "\n",
    "P.S.: Такая запись избавит вас от необходимости писать название модуля перед нужной функцией. Однако делать так не рекомендуется, так как при таком вызове в наше пространство имен выгружаются все имена функций, переменных из модуля, и в таком случае при совпадении имен старое значение будет перезаписано. \n",
    "\n",
    "Например, пусть у нас была переменная  `sign`"
   ]
  },
  {
   "cell_type": "code",
   "execution_count": null,
   "metadata": {},
   "outputs": [],
   "source": [
    "sign = \"+\""
   ]
  },
  {
   "cell_type": "code",
   "execution_count": null,
   "metadata": {},
   "outputs": [],
   "source": [
    "from modules_examples.test_module3 import *"
   ]
  },
  {
   "cell_type": "code",
   "execution_count": null,
   "metadata": {},
   "outputs": [],
   "source": [
    "sign"
   ]
  },
  {
   "cell_type": "markdown",
   "metadata": {},
   "source": [
    "Теперь это функция"
   ]
  },
  {
   "cell_type": "markdown",
   "metadata": {},
   "source": [
    "#### Выполнение модуля как самостоятельной программы \n",
    "Интерпретатор Python может выполнять файлы с программным кодом\n",
    "двумя способами. Инструкция import выполняет программный код библиотечного модуля в собственном пространстве имен. Однако программный код может также выполняться как отдельная программа или сценарий. Это происходит, когда имя файла передается интерпретатору как имя сценария:\n",
    "> python *module_name.py*\n",
    "\n",
    "Для каждого модуля определяется переменная **\\__name__**, где хранится имя\n",
    "модуля. Программы могут проверять значение этой переменной, чтобы\n",
    "определить, в каком режиме они выполняются. При выполнении интерпретатором модуль верхнего уровня получает имя **\\__main__**. Программа,\n",
    "имя которой было передано интерпретатору в виде аргумента командной\n",
    "строки, или введенная в интерактивной оболочке, выполняется внутри\n",
    "пространства имен модуля **\\__main__**. Иногда бывает необходимо изменить\n",
    "поведение программы, в зависимости от того, была ли она импортирована\n",
    "как модуль или запущена в пространстве имен **\\__main__**. Например, модуль\n",
    "может содержать какие-либо тесты, которые должны выполняться при запуске модуля как отдельной программы и не должны выполняться, когда модуль импортируется другим модулем. Реализовать это можно, как показано ниже:\n",
    "> if *\\__name__* == \"\\__main__\":\n",
    ">> *Some code here*"
   ]
  },
  {
   "cell_type": "code",
   "execution_count": null,
   "metadata": {},
   "outputs": [],
   "source": [
    "import modules_examples.test_module4 as tm4"
   ]
  },
  {
   "cell_type": "markdown",
   "metadata": {},
   "source": [
    "### Работа с файлами\n",
    "\n",
    "Согласно определению файл - именованная область постоянной памяти в компьютере, которой управляет опреационная система. \n",
    "\n",
    "Чтобы открыть файл нужно воспользоваться встроенной функцией `open(<путь до файла>, <режим работы с файлом (mode)>)`\n",
    "\n",
    "| mode | Описание |\n",
    "| --- | --- |\n",
    "|`'r'` | чтение (read-only, это значение выставлено по умолчанию)|\n",
    "|`'x'`| создает файл для записи, если файл уже существует, то кинет ошибку|\n",
    "|`'w'`| создает файл для записи, создает новый файл (удалит старый файл с таким же именем)|\n",
    "|`'a'`| открывает файл для дозаписи в конец файла, если требуемого файла нет, то сначала создаст его|\n",
    "\n",
    "* Добавление символа `b` в строку режима означает работу с двоичными данными\n",
    "* Добавление символа `+` означает, что файл открывается и для чтения и для записи"
   ]
  },
  {
   "cell_type": "markdown",
   "metadata": {},
   "source": [
    "Рассмотрим пример работы с файлом"
   ]
  },
  {
   "cell_type": "code",
   "execution_count": null,
   "metadata": {},
   "outputs": [],
   "source": [
    "f = open('files/first_file.txt', 'w')  # Открыли файл для записи (файл появится в папке  files) \n",
    "f.write('hello text file\\n')  # Записывает строку в файл\n",
    "f.write('nice to meet you\\n')\n",
    "f.close()  # Закрываем файл"
   ]
  },
  {
   "cell_type": "markdown",
   "metadata": {},
   "source": [
    "попробуем считать данные из нашего файла"
   ]
  },
  {
   "cell_type": "code",
   "execution_count": null,
   "metadata": {},
   "outputs": [],
   "source": [
    "f = open('files/first_file.txt')\n",
    "line1 = f.readline()  # читаем строку\n",
    "line2 = f.readline() \n",
    "f.close()"
   ]
  },
  {
   "cell_type": "code",
   "execution_count": null,
   "metadata": {},
   "outputs": [],
   "source": [
    "line1, line2"
   ]
  },
  {
   "cell_type": "markdown",
   "metadata": {},
   "source": [
    "Строк в файле обычно много, поэтому обернем считывание из файла в цикл"
   ]
  },
  {
   "cell_type": "code",
   "execution_count": null,
   "metadata": {},
   "outputs": [],
   "source": [
    "f = open('files/first_file.txt')\n",
    "lines = []  # массив для хранения строк\n",
    "while True:\n",
    "    line = f.readline()\n",
    "    if line == '':  # проверяем есть ли еще строки в файле\n",
    "        break\n",
    "    lines.append(line)\n",
    "f.close()"
   ]
  },
  {
   "cell_type": "code",
   "execution_count": null,
   "metadata": {},
   "outputs": [],
   "source": [
    "lines"
   ]
  },
  {
   "cell_type": "markdown",
   "metadata": {},
   "source": [
    "Закрывать за собой файлы это пример хорошего тона в программировании, однако в Python это действие не является обязательным. Дело в автоматическом сборщике мусора, который закроет файл после окончания выполнения программы.\n",
    "\n",
    "Помимо этого существует альтернитивный вариант автоматического закрытия файла - использование так называемого *контекстного менеджера*:"
   ]
  },
  {
   "cell_type": "code",
   "execution_count": null,
   "metadata": {},
   "outputs": [],
   "source": [
    "lines = []\n",
    "with open('files/first_file.txt') as f:\n",
    "    while True:\n",
    "        line = f.readline()\n",
    "        if line == '':  \n",
    "            break\n",
    "        lines.append(line)\n",
    "# После выхода из блока with/as файл будет закрыт\n",
    "lines"
   ]
  },
  {
   "cell_type": "code",
   "execution_count": null,
   "metadata": {},
   "outputs": [],
   "source": [
    "f.write('df')"
   ]
  },
  {
   "cell_type": "markdown",
   "metadata": {},
   "source": [
    "Стоит отметить, что существует возможность прочитать файл целиком за один раз. Инструкция `file.read()` вернет вам строку со всем содержимым файла. Однако делать так стоит лишь когда вы уверены, что размер файла не превышает размера оперативной памяти, оставшейся в распоряжении компьютера."
   ]
  },
  {
   "cell_type": "code",
   "execution_count": null,
   "metadata": {},
   "outputs": [],
   "source": [
    "lines = []\n",
    "with open('files/first_file.txt') as f:\n",
    "    whole_file = f.read()\n",
    "    for line in whole_file.split():\n",
    "        lines.append(line)\n",
    "        "
   ]
  },
  {
   "cell_type": "code",
   "execution_count": null,
   "metadata": {},
   "outputs": [],
   "source": [
    "whole_file"
   ]
  },
  {
   "cell_type": "code",
   "execution_count": null,
   "metadata": {},
   "outputs": [],
   "source": [
    "lines"
   ]
  },
  {
   "cell_type": "markdown",
   "metadata": {},
   "source": [
    "посмотреть о всех возможных методах файлов можно посмотреть [тут](https://docs.python.org/2.4/lib/bltin-file-objects.html)"
   ]
  },
  {
   "cell_type": "code",
   "execution_count": null,
   "metadata": {},
   "outputs": [],
   "source": []
  }
 ],
 "metadata": {
  "kernelspec": {
   "display_name": "Python 3",
   "language": "python",
   "name": "python3"
  },
  "language_info": {
   "codemirror_mode": {
    "name": "ipython",
    "version": 3
   },
   "file_extension": ".py",
   "mimetype": "text/x-python",
   "name": "python",
   "nbconvert_exporter": "python",
   "pygments_lexer": "ipython3",
   "version": "3.7.6"
  }
 },
 "nbformat": 4,
 "nbformat_minor": 4
}
