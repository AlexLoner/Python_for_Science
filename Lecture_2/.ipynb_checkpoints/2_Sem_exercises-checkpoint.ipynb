{
 "cells": [
  {
   "cell_type": "markdown",
   "metadata": {},
   "source": [
    "### **Задача 5**\n",
    "---\n",
    "Согласно [\"Жизни двенадцати цезарей\"](https://ru.wikipedia.org/wiki/%D0%96%D0%B8%D0%B7%D0%BD%D1%8C_%D0%B4%D0%B2%D0%B5%D0%BD%D0%B0%D0%B4%D1%86%D0%B0%D1%82%D0%B8_%D1%86%D0%B5%D0%B7%D0%B0%D1%80%D0%B5%D0%B9) Гай Юлий Цезарь использовал специальный шифр для защиты своих военных сообщений.\n",
    "> *Если у него было что-либо конфиденциальное для передачи, то он записывал это шифром, то есть так изменял порядок букв алфавита, что нельзя было разобрать ни одно слово. Если кто-либо хотел дешифровать его и понять его значение, то он должен был подставлять четвертую букву алфавита, а именно, D, для A, и так далее, с другими буквами.*\n",
    ">\n",
    "> Гай Светоний Транквилл Жизнь двенадцати цезарей, Книга первая, гл. 56\n",
    "\n",
    "Таким образом, каждому символу алфавита присваивается целое число от нуля и так далле. Затем, выбирается некоторое целое число (shift), на которое смещаются все символы.\n",
    "\n",
    "\n",
    "Original:  a b c d e f g h i j k l m n o p q r s t u v w x y z \\\n",
    " 3-shift:  d e f g h i j k l m n o p q r s t u v w x y z a b c\n",
    " \n",
    " ![](https://upload.wikimedia.org/wikipedia/commons/2/2b/Caesar3.svg)\n",
    "\n",
    "В этом задании мы предлагаем вам попробовать расшифровать наше сообщение, зашифрованное схожим образом, написав функцию `decryption(s, shift)`. Функция принимает первым аргументом зашифрованное сообщение, а вторым некоторый сдвиг.\n",
    "\n",
    "Чтобы не писать все буквы алвавита в ручную, воспользуйтесь модулем `string`"
   ]
  },
  {
   "cell_type": "code",
   "execution_count": 3,
   "metadata": {},
   "outputs": [],
   "source": [
    "import string\n",
    "alphabet = string.ascii_lowercase"
   ]
  },
  {
   "cell_type": "code",
   "execution_count": 4,
   "metadata": {},
   "outputs": [
    {
     "data": {
      "text/plain": [
       "'abcdefghijklmnopqrstuvwxyz'"
      ]
     },
     "execution_count": 4,
     "metadata": {},
     "output_type": "execute_result"
    }
   ],
   "source": [
    "alphabet"
   ]
  },
  {
   "cell_type": "code",
   "execution_count": null,
   "metadata": {},
   "outputs": [],
   "source": [
    "def decryption(s: str, shift: int):\n",
    "    # Ваш код\n",
    "    ...\n",
    "    "
   ]
  },
  {
   "cell_type": "code",
   "execution_count": null,
   "metadata": {},
   "outputs": [],
   "source": []
  }
 ],
 "metadata": {
  "kernelspec": {
   "display_name": "Python 3",
   "language": "python",
   "name": "python3"
  },
  "language_info": {
   "codemirror_mode": {
    "name": "ipython",
    "version": 3
   },
   "file_extension": ".py",
   "mimetype": "text/x-python",
   "name": "python",
   "nbconvert_exporter": "python",
   "pygments_lexer": "ipython3",
   "version": "3.8.3"
  }
 },
 "nbformat": 4,
 "nbformat_minor": 4
}
